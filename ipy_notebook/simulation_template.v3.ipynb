{
 "metadata": {
  "kernelspec": {
   "display_name": "Python 2",
   "language": "python",
   "name": "python2"
  },
  "language_info": {
   "codemirror_mode": {
    "name": "ipython",
    "version": 2
   },
   "file_extension": ".py",
   "mimetype": "text/x-python",
   "name": "python",
   "nbconvert_exporter": "python",
   "pygments_lexer": "ipython2",
   "version": "2.7.6"
  },
  "name": ""
 },
 "nbformat": 3,
 "nbformat_minor": 0,
 "worksheets": [
  {
   "cells": [
    {
     "cell_type": "code",
     "collapsed": true,
     "input": [
      "from dolfin import *\n",
      "\n",
      "import numpy as np\n",
      "\n",
      "import cell_geom as geom\n",
      "import cell_material as mat\n",
      "import cell_computation as comp"
     ],
     "language": "python",
     "metadata": {},
     "outputs": [],
     "prompt_number": 1
    },
    {
     "cell_type": "heading",
     "level": 2,
     "metadata": {},
     "source": [
      "Linear Backend"
     ]
    },
    {
     "cell_type": "code",
     "collapsed": false,
     "input": [
      "parameters['linear_algebra_backend'] = 'Eigen'"
     ],
     "language": "python",
     "metadata": {},
     "outputs": [],
     "prompt_number": 4
    },
    {
     "cell_type": "heading",
     "level": 2,
     "metadata": {},
     "source": [
      "Define Geometry"
     ]
    },
    {
     "cell_type": "code",
     "collapsed": true,
     "input": [
      "mesh = Mesh(r'./m_fine.xml')"
     ],
     "language": "python",
     "metadata": {},
     "outputs": [],
     "prompt_number": 39
    },
    {
     "cell_type": "code",
     "collapsed": true,
     "input": [
      "cell = geom.UnitCell(mesh)"
     ],
     "language": "python",
     "metadata": {},
     "outputs": [],
     "prompt_number": 40
    },
    {
     "cell_type": "code",
     "collapsed": false,
     "input": [
      "# Add inclusion\n",
      "inc = geom.InclusionCircle(2, (0.5, 0.5), 0.25)\n",
      "inc_di = {'circle_inc': inc}\n",
      "cell.set_append_inclusion(inc_di)"
     ],
     "language": "python",
     "metadata": {},
     "outputs": [],
     "prompt_number": 41
    },
    {
     "cell_type": "heading",
     "level": 2,
     "metadata": {},
     "source": [
      "Define Material"
     ]
    },
    {
     "cell_type": "code",
     "collapsed": true,
     "input": [
      "E_m, nu_m, E_i, nu_i = 10.0, 0.3, 1000.0, 0.3\n",
      "mat_m = mat.st_venant_kirchhoff(E_m, nu_m)\n",
      "mat_i = mat.st_venant_kirchhoff(E_i, nu_i)\n",
      "mat_li = [mat_m, mat_i]"
     ],
     "language": "python",
     "metadata": {},
     "outputs": [],
     "prompt_number": 42
    },
    {
     "cell_type": "heading",
     "level": 2,
     "metadata": {},
     "source": [
      "Define Computation"
     ]
    },
    {
     "cell_type": "code",
     "collapsed": true,
     "input": [
      "VFS = VectorFunctionSpace(cell.mesh, \"CG\", 1, \n",
      "                          constrained_domain=geom.PeriodicBoundary_no_corner(2))"
     ],
     "language": "python",
     "metadata": {},
     "outputs": [],
     "prompt_number": 43
    },
    {
     "cell_type": "code",
     "collapsed": true,
     "input": [
      "def deform_grad_with_macro(F_bar, w_component):\n",
      "    return F_bar + grad(w_component)"
     ],
     "language": "python",
     "metadata": {},
     "outputs": [],
     "prompt_number": 44
    },
    {
     "cell_type": "code",
     "collapsed": false,
     "input": [
      "w = Function(VFS)\n",
      "strain_space = TensorFunctionSpace(mesh, 'DG', 0)\n",
      "compute = comp.MicroComputation(cell, mat_li, \n",
      "                                [deform_grad_with_macro],\n",
      "                                [strain_space])"
     ],
     "language": "python",
     "metadata": {},
     "outputs": [],
     "prompt_number": 69
    },
    {
     "cell_type": "code",
     "collapsed": true,
     "input": [
      "F_bar = [0.9, 0., 0., 1.]"
     ],
     "language": "python",
     "metadata": {},
     "outputs": [],
     "prompt_number": 70
    },
    {
     "cell_type": "code",
     "collapsed": true,
     "input": [
      "compute.input([F_bar], [w])"
     ],
     "language": "python",
     "metadata": {},
     "outputs": [],
     "prompt_number": 71
    },
    {
     "cell_type": "code",
     "collapsed": false,
     "input": [
      "# comp.set_solver_parameters('non_lin_newton', lin_method='direct',\n",
      "#                       linear_solver='cholesky')"
     ],
     "language": "python",
     "metadata": {},
     "outputs": [],
     "prompt_number": 72
    },
    {
     "cell_type": "code",
     "collapsed": false,
     "input": [
      "compute.comp_fluctuation(print_progress=True, print_solver_info=False)"
     ],
     "language": "python",
     "metadata": {},
     "outputs": [
      {
       "output_type": "stream",
       "stream": "stdout",
       "text": [
        "fluctuation computation finished\n"
       ]
      }
     ],
     "prompt_number": 73
    },
    {
     "cell_type": "code",
     "collapsed": true,
     "input": [
      "compute.view_fluctuation()"
     ],
     "language": "python",
     "metadata": {},
     "outputs": [],
     "prompt_number": 76
    },
    {
     "cell_type": "code",
     "collapsed": true,
     "input": [
      "delta = 0.01"
     ],
     "language": "python",
     "metadata": {},
     "outputs": [],
     "prompt_number": 74
    },
    {
     "cell_type": "code",
     "collapsed": false,
     "input": [
      "for i in range(10):\n",
      "    F_bar[0] -= delta\n",
      "    print F_bar\n",
      "    compute.input([F_bar], [w])\n",
      "    compute.comp_fluctuation(print_progress=True, print_solver_info=False)"
     ],
     "language": "python",
     "metadata": {},
     "outputs": [
      {
       "output_type": "stream",
       "stream": "stdout",
       "text": [
        "[0.89, 0.0, 0.0, 1.0]\n",
        "fluctuation computation finished\n",
        "[0.88, 0.0, 0.0, 1.0]\n",
        "fluctuation computation finished\n",
        "[0.87, 0.0, 0.0, 1.0]\n",
        "fluctuation computation finished\n",
        "[0.86, 0.0, 0.0, 1.0]\n",
        "fluctuation computation finished\n",
        "[0.85, 0.0, 0.0, 1.0]\n",
        "fluctuation computation finished\n",
        "[0.84, 0.0, 0.0, 1.0]\n",
        "fluctuation computation finished\n",
        "[0.83, 0.0, 0.0, 1.0]\n",
        "fluctuation computation finished\n",
        "[0.82, 0.0, 0.0, 1.0]\n"
       ]
      },
      {
       "ename": "RuntimeError",
       "evalue": "\n\n*** -------------------------------------------------------------------------\n*** DOLFIN encountered an error. If you are not able to resolve this issue\n*** using the information listed below, you can ask for help at\n***\n***     fenics@fenicsproject.org\n***\n*** Remember to include the error message listed below and, if possible,\n*** include a *minimal* running example to reproduce the error.\n***\n*** -------------------------------------------------------------------------\n*** Error:   Unable to solve nonlinear system with NewtonSolver.\n*** Reason:  Newton solver did not converge because maximum number of iterations reached.\n*** Where:   This error was encountered inside NewtonSolver.cpp.\n*** Process: 0\n*** \n*** DOLFIN version: 1.6.0\n*** Git changeset:  unknown\n*** -------------------------------------------------------------------------\n",
       "output_type": "pyerr",
       "traceback": [
        "\u001b[1;31m---------------------------------------------------------------------------\u001b[0m",
        "\u001b[1;31mRuntimeError\u001b[0m                              Traceback (most recent call last)",
        "\u001b[1;32m<ipython-input-75-c9daa2f7264b>\u001b[0m in \u001b[0;36m<module>\u001b[1;34m()\u001b[0m\n\u001b[0;32m      3\u001b[0m     \u001b[1;32mprint\u001b[0m \u001b[0mF_bar\u001b[0m\u001b[1;33m\u001b[0m\u001b[0m\n\u001b[0;32m      4\u001b[0m     \u001b[0mcompute\u001b[0m\u001b[1;33m.\u001b[0m\u001b[0minput\u001b[0m\u001b[1;33m(\u001b[0m\u001b[1;33m[\u001b[0m\u001b[0mF_bar\u001b[0m\u001b[1;33m]\u001b[0m\u001b[1;33m,\u001b[0m \u001b[1;33m[\u001b[0m\u001b[0mw\u001b[0m\u001b[1;33m]\u001b[0m\u001b[1;33m)\u001b[0m\u001b[1;33m\u001b[0m\u001b[0m\n\u001b[1;32m----> 5\u001b[1;33m     \u001b[0mcompute\u001b[0m\u001b[1;33m.\u001b[0m\u001b[0mcomp_fluctuation\u001b[0m\u001b[1;33m(\u001b[0m\u001b[0mprint_progress\u001b[0m\u001b[1;33m=\u001b[0m\u001b[0mTrue\u001b[0m\u001b[1;33m,\u001b[0m \u001b[0mprint_solver_info\u001b[0m\u001b[1;33m=\u001b[0m\u001b[0mFalse\u001b[0m\u001b[1;33m)\u001b[0m\u001b[1;33m\u001b[0m\u001b[0m\n\u001b[0m",
        "\u001b[1;32m/home/yihu/workspace/studien_arbeit_fenics/unit_square_cell/cell_computation.pyc\u001b[0m in \u001b[0;36mcomp_fluctuation\u001b[1;34m(self, print_progress, print_solver_info)\u001b[0m\n\u001b[0;32m    275\u001b[0m                        \u001b[0mprint_progress\u001b[0m\u001b[1;33m=\u001b[0m\u001b[0mprint_progress\u001b[0m\u001b[1;33m,\u001b[0m\u001b[1;33m\u001b[0m\u001b[0m\n\u001b[0;32m    276\u001b[0m                        print_solver_info=print_solver_info)\n\u001b[1;32m--> 277\u001b[1;33m         \u001b[0msolver\u001b[0m\u001b[1;33m.\u001b[0m\u001b[0msolve\u001b[0m\u001b[1;33m(\u001b[0m\u001b[1;33m)\u001b[0m\u001b[1;33m\u001b[0m\u001b[0m\n\u001b[0m\u001b[0;32m    278\u001b[0m \u001b[1;33m\u001b[0m\u001b[0m\n\u001b[0;32m    279\u001b[0m         \u001b[1;32mprint\u001b[0m \u001b[1;34m'fluctuation computation finished'\u001b[0m\u001b[1;33m\u001b[0m\u001b[0m\n",
        "\u001b[1;31mRuntimeError\u001b[0m: \n\n*** -------------------------------------------------------------------------\n*** DOLFIN encountered an error. If you are not able to resolve this issue\n*** using the information listed below, you can ask for help at\n***\n***     fenics@fenicsproject.org\n***\n*** Remember to include the error message listed below and, if possible,\n*** include a *minimal* running example to reproduce the error.\n***\n*** -------------------------------------------------------------------------\n*** Error:   Unable to solve nonlinear system with NewtonSolver.\n*** Reason:  Newton solver did not converge because maximum number of iterations reached.\n*** Where:   This error was encountered inside NewtonSolver.cpp.\n*** Process: 0\n*** \n*** DOLFIN version: 1.6.0\n*** Git changeset:  unknown\n*** -------------------------------------------------------------------------\n"
       ]
      }
     ],
     "prompt_number": 75
    },
    {
     "cell_type": "code",
     "collapsed": true,
     "input": [],
     "language": "python",
     "metadata": {},
     "outputs": [],
     "prompt_number": null
    }
   ],
   "metadata": {}
  }
 ]
}