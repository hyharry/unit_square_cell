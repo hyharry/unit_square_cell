{
 "cells": [
  {
   "cell_type": "code",
   "execution_count": 1,
   "metadata": {
    "collapsed": true
   },
   "outputs": [],
   "source": [
    "import sys\n",
    "sys.path.append(r'../')"
   ]
  },
  {
   "cell_type": "code",
   "execution_count": 9,
   "metadata": {
    "collapsed": true
   },
   "outputs": [],
   "source": [
    "from dolfin import *\n",
    "import numpy as np\n",
    "\n",
    "import cell_computation as com\n",
    "import cell_geom as ce\n",
    "import cell_material as ma\n",
    "from copy import deepcopy"
   ]
  },
  {
   "cell_type": "code",
   "execution_count": 10,
   "metadata": {
    "collapsed": true
   },
   "outputs": [],
   "source": [
    "import logging\n",
    "logging.getLogger('FFC').setLevel(logging.WARNING)"
   ]
  },
  {
   "cell_type": "markdown",
   "metadata": {},
   "source": [
    "## Setting"
   ]
  },
  {
   "cell_type": "code",
   "execution_count": 12,
   "metadata": {
    "collapsed": false
   },
   "outputs": [],
   "source": [
    "mesh = Mesh(r\"../m.xml\")\n",
    "# mesh = Mesh(r\"m_fine.xml\")\n",
    "\n",
    "cell = ce.UnitCell(mesh)\n",
    "\n",
    "inc = ce.InclusionCircle(2, (0.5, 0.5), 0.25)\n",
    "inc_di = {'circle_inc': inc}\n",
    "cell.set_append_inclusion(inc_di)"
   ]
  },
  {
   "cell_type": "code",
   "execution_count": 41,
   "metadata": {
    "collapsed": false
   },
   "outputs": [],
   "source": [
    "VFS = VectorFunctionSpace(cell.mesh, \"CG\", 1,\n",
    "                              constrained_domain=ce.PeriodicBoundary_no_corner(2))\n",
    "FS = FunctionSpace(cell.mesh, \"CG\", 1,\n",
    "                   constrained_domain=ce.PeriodicBoundary_no_corner(2))\n",
    "\n",
    "# Set materials\n",
    "E_m, nu_m, Kappa_m = 2e5, 0.4, 7.\n",
    "# n = 1000\n",
    "n = 1000  # 13.Jan\n",
    "E_i, nu_i, Kappa_i = 1000 * E_m, 0.3, n * Kappa_m\n",
    "\n",
    "mat_m = ma.neo_hook_eap(E_m, nu_m, Kappa_m)\n",
    "mat_i = ma.neo_hook_eap(E_i, nu_i, Kappa_i)\n",
    "mat_li = [mat_m, mat_i]"
   ]
  },
  {
   "cell_type": "code",
   "execution_count": 42,
   "metadata": {
    "collapsed": false
   },
   "outputs": [],
   "source": [
    "w = Function(VFS)\n",
    "el_pot_phi = Function(FS)\n",
    "strain_space_w = TensorFunctionSpace(mesh, 'DG', 0)\n",
    "strain_space_E = VectorFunctionSpace(mesh, 'DG', 0)"
   ]
  },
  {
   "cell_type": "code",
   "execution_count": 43,
   "metadata": {
    "collapsed": true
   },
   "outputs": [],
   "source": [
    "def deform_grad_with_macro(F_bar, w_component):\n",
    "    return F_bar + grad(w_component)\n",
    "def e_field_with_macro(E_bar, phi):\n",
    "    return E_bar - grad(phi)"
   ]
  },
  {
   "cell_type": "code",
   "execution_count": 44,
   "metadata": {
    "collapsed": false
   },
   "outputs": [],
   "source": [
    "comp = com.MicroComputation(cell, mat_li,\n",
    "                        [deform_grad_with_macro, e_field_with_macro],\n",
    "                        [strain_space_w, strain_space_E])"
   ]
  },
  {
   "cell_type": "markdown",
   "metadata": {},
   "source": [
    "## Computation with FD"
   ]
  },
  {
   "cell_type": "code",
   "execution_count": 45,
   "metadata": {
    "collapsed": true
   },
   "outputs": [],
   "source": [
    "# sample_num = 8\n",
    "# delta = np.logspace(-2,-4,num=sample_num)"
   ]
  },
  {
   "cell_type": "code",
   "execution_count": 46,
   "metadata": {
    "collapsed": true
   },
   "outputs": [],
   "source": [
    "def avg_mer_stress(F_bar, E_bar):\n",
    "    comp.input([F_bar, E_bar], [w, el_pot_phi])\n",
    "    comp.comp_fluctuation()\n",
    "    return comp.avg_merge_stress()"
   ]
  },
  {
   "cell_type": "code",
   "execution_count": 47,
   "metadata": {
    "collapsed": true
   },
   "outputs": [],
   "source": [
    "def conv_check_component(label, compo, delta):\n",
    "    C_eff_component_FD = np.zeros(shape=(len(delta),6), dtype=float)\n",
    "    if label is 'F':\n",
    "        for i, d in enumerate(delta):\n",
    "            F_minus = deepcopy(F_bar)\n",
    "            F_minus[compo] = F_bar[compo] - d/2\n",
    "            F_plus = deepcopy(F_bar)\n",
    "            F_plus[compo] = F_bar[compo] + d/2\n",
    "\n",
    "            P_minus = avg_mer_stress(F_minus, E_bar)\n",
    "            P_plus  = avg_mer_stress(F_plus, E_bar)\n",
    "            \n",
    "            C_eff_component_FD[i,:] = (P_plus - P_minus)/d\n",
    "    elif label is 'E':\n",
    "        for i, d in enumerate(delta):\n",
    "            E_minus = deepcopy(E_bar)\n",
    "            E_minus[compo] = E_bar[compo] - d/2\n",
    "            E_plus = deepcopy(E_bar)\n",
    "            E_plus[compo] = E_bar[compo] + d/2\n",
    "\n",
    "            P_minus = avg_mer_stress(F_bar, E_minus)\n",
    "            P_plus  = avg_mer_stress(F_bar, E_plus)\n",
    "            \n",
    "            C_eff_component_FD[i,:] = (P_plus - P_minus)/d\n",
    "    else:\n",
    "        raise Exception('no such field label')\n",
    "    \n",
    "    return C_eff_component_FD "
   ]
  },
  {
   "cell_type": "code",
   "execution_count": 48,
   "metadata": {
    "collapsed": false,
    "scrolled": true
   },
   "outputs": [
    {
     "name": "stdout",
     "output_type": "stream",
     "text": [
      "fluctuation computation finished\n",
      "strain computation finished\n",
      "average merge stress computation finished\n",
      "fluctuation computation finished\n",
      "strain computation finished\n",
      "average merge stress computation finished\n",
      "fluctuation computation finished\n",
      "strain computation finished\n",
      "average merge stress computation finished\n",
      "fluctuation computation finished\n",
      "strain computation finished\n",
      "average merge stress computation finished\n",
      "fluctuation computation finished\n",
      "strain computation finished\n",
      "average merge stress computation finished\n",
      "fluctuation computation finished\n",
      "strain computation finished\n",
      "average merge stress computation finished\n",
      "fluctuation computation finished\n",
      "strain computation finished\n",
      "average merge stress computation finished\n",
      "fluctuation computation finished\n",
      "strain computation finished\n",
      "average merge stress computation finished\n"
     ]
    }
   ],
   "source": [
    "F_bar = [1.1, 0., 0.1, 1.]\n",
    "\n",
    "E_bar = [0., 0.2]\n",
    "\n",
    "delta = [0.01, 0.01/2, 0.01/4, 0.01/8]\n",
    "\n",
    "C_eff_component_FD = conv_check_component('F', 3, delta)"
   ]
  },
  {
   "cell_type": "markdown",
   "metadata": {},
   "source": [
    "## Homogenization Method Result"
   ]
  },
  {
   "cell_type": "code",
   "execution_count": 55,
   "metadata": {
    "collapsed": false
   },
   "outputs": [
    {
     "name": "stdout",
     "output_type": "stream",
     "text": [
      "fluctuation computation finished\n",
      "strain computation finished\n",
      "average merge moduli computation finished\n",
      "[[  1.95482571e+06   1.52043336e+03   1.27764133e+05   1.24901611e+06\n",
      "    2.49079832e+03  -9.95713841e+03]\n",
      " [  1.52043336e+03   5.61691810e+05   6.26569870e+03   8.00336921e+02\n",
      "   -1.30571459e+04   2.88140032e+03]\n",
      " [  1.27764133e+05   6.26569870e+03   5.76457820e+05   1.14822275e+05\n",
      "   -1.16436964e+04   1.71426043e+03]\n",
      " [  1.24901611e+06   8.00336921e+02   1.14822275e+05   1.71022435e+06\n",
      "    1.45413345e+03  -3.84940895e+04]\n",
      " [  2.49079832e+03  -1.30571459e+04  -1.16436964e+04   1.45413345e+03\n",
      "    7.39670214e+04  -5.82574068e+03]\n",
      " [ -9.95713841e+03   2.88140032e+03   1.71426043e+03  -3.84940895e+04\n",
      "   -5.82574068e+03   8.71187218e+04]]\n"
     ]
    }
   ],
   "source": [
    "comp = com.MicroComputation(cell, mat_li,\n",
    "                        [deform_grad_with_macro, e_field_with_macro],\n",
    "                        [strain_space_w, strain_space_E])\n",
    "comp.input([F_bar, E_bar], [w, el_pot_phi])\n",
    "comp.comp_fluctuation()\n",
    "C_eff = comp.effective_moduli_2()"
   ]
  },
  {
   "cell_type": "code",
   "execution_count": 50,
   "metadata": {
    "collapsed": false
   },
   "outputs": [
    {
     "name": "stdout",
     "output_type": "stream",
     "text": [
      "[[  1.24901754e+06   8.00277495e+02   1.14822463e+05   1.71024353e+06\n",
      "    1.45416890e+03  -3.84962323e+04]\n",
      " [  1.24901647e+06   8.00322065e+02   1.14822322e+05   1.71022914e+06\n",
      "    1.45414231e+03  -3.84946252e+04]\n",
      " [  1.24901620e+06   8.00333207e+02   1.14822287e+05   1.71022555e+06\n",
      "    1.45413566e+03  -3.84942234e+04]\n",
      " [  1.24901613e+06   8.00335992e+02   1.14822278e+05   1.71022465e+06\n",
      "    1.45413400e+03  -3.84941230e+04]]\n"
     ]
    }
   ],
   "source": [
    "print C_eff_component_FD"
   ]
  },
  {
   "cell_type": "code",
   "execution_count": 57,
   "metadata": {
    "collapsed": false
   },
   "outputs": [
    {
     "data": {
      "text/plain": [
       "array([  1.24901611e+06,   8.00336921e+02,   1.14822275e+05,\n",
       "         1.71022435e+06,   1.45413345e+03,  -3.84940895e+04])"
      ]
     },
     "execution_count": 57,
     "metadata": {},
     "output_type": "execute_result"
    }
   ],
   "source": [
    "C_eff[:,3]"
   ]
  },
  {
   "cell_type": "markdown",
   "metadata": {},
   "source": [
    "## Convergence Check"
   ]
  },
  {
   "cell_type": "code",
   "execution_count": 60,
   "metadata": {
    "collapsed": true
   },
   "outputs": [],
   "source": [
    "component = C_eff[:,3]\n",
    "\n",
    "tmp = np.outer(np.ones((len(delta),1)),np.transpose(component))\n",
    "\n",
    "error = np.linalg.norm(tmp - C_eff_component_FD, axis=1)/np.linalg.norm(component)"
   ]
  },
  {
   "cell_type": "code",
   "execution_count": 61,
   "metadata": {
    "collapsed": false
   },
   "outputs": [
    {
     "data": {
      "text/plain": [
       "array([  9.12302965e-06,   2.28075104e-06,   5.70186024e-07,\n",
       "         1.42533577e-07])"
      ]
     },
     "execution_count": 61,
     "metadata": {},
     "output_type": "execute_result"
    }
   ],
   "source": [
    "error"
   ]
  },
  {
   "cell_type": "code",
   "execution_count": null,
   "metadata": {
    "collapsed": true
   },
   "outputs": [],
   "source": []
  }
 ],
 "metadata": {
  "kernelspec": {
   "display_name": "Python 2",
   "language": "python",
   "name": "python2"
  },
  "language_info": {
   "codemirror_mode": {
    "name": "ipython",
    "version": 2
   },
   "file_extension": ".py",
   "mimetype": "text/x-python",
   "name": "python",
   "nbconvert_exporter": "python",
   "pygments_lexer": "ipython2",
   "version": "2.7.6"
  }
 },
 "nbformat": 4,
 "nbformat_minor": 0
}
