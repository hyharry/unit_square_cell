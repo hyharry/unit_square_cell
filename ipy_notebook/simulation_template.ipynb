{
 "cells": [
  {
   "cell_type": "code",
   "execution_count": 1,
   "metadata": {
    "collapsed": true
   },
   "outputs": [],
   "source": [
    "import sys\n",
    "sys.path.append(r'../')"
   ]
  },
  {
   "cell_type": "code",
   "execution_count": 2,
   "metadata": {
    "collapsed": true
   },
   "outputs": [],
   "source": [
    "from dolfin import *\n",
    "\n",
    "import numpy as np\n",
    "\n",
    "import cell_geom as geom\n",
    "import cell_material as mat\n",
    "import cell_computation as comp"
   ]
  },
  {
   "cell_type": "markdown",
   "metadata": {},
   "source": [
    "## Linear Backend"
   ]
  },
  {
   "cell_type": "code",
   "execution_count": 3,
   "metadata": {
    "collapsed": false
   },
   "outputs": [],
   "source": [
    "parameters['linear_algebra_backend'] = 'Eigen'"
   ]
  },
  {
   "cell_type": "markdown",
   "metadata": {},
   "source": [
    "## Define Geometry"
   ]
  },
  {
   "cell_type": "code",
   "execution_count": 5,
   "metadata": {
    "collapsed": false
   },
   "outputs": [],
   "source": [
    "mesh = Mesh(r'../m.xml')"
   ]
  },
  {
   "cell_type": "code",
   "execution_count": 6,
   "metadata": {
    "collapsed": true
   },
   "outputs": [],
   "source": [
    "cell = geom.UnitCell(mesh)"
   ]
  },
  {
   "cell_type": "code",
   "execution_count": 7,
   "metadata": {
    "collapsed": false
   },
   "outputs": [],
   "source": [
    "# Add inclusion\n",
    "inc = geom.InclusionCircle(2, (0.5, 0.5), 0.25)\n",
    "inc_di = {'circle_inc': inc}\n",
    "cell.set_append_inclusion(inc_di)"
   ]
  },
  {
   "cell_type": "markdown",
   "metadata": {},
   "source": [
    "## Define Material"
   ]
  },
  {
   "cell_type": "code",
   "execution_count": 8,
   "metadata": {
    "collapsed": true
   },
   "outputs": [],
   "source": [
    "E_m, nu_m, E_i, nu_i = 10.0, 0.3, 1000.0, 0.3\n",
    "mat_m = mat.st_venant_kirchhoff(E_m, nu_m)\n",
    "mat_i = mat.st_venant_kirchhoff(E_i, nu_i)\n",
    "mat_li = [mat_m, mat_i]"
   ]
  },
  {
   "cell_type": "markdown",
   "metadata": {},
   "source": [
    "## Define Computation"
   ]
  },
  {
   "cell_type": "code",
   "execution_count": 9,
   "metadata": {
    "collapsed": true
   },
   "outputs": [],
   "source": [
    "VFS = VectorFunctionSpace(cell.mesh, \"CG\", 1, \n",
    "                          constrained_domain=geom.PeriodicBoundary_no_corner(2))"
   ]
  },
  {
   "cell_type": "code",
   "execution_count": 10,
   "metadata": {
    "collapsed": true
   },
   "outputs": [],
   "source": [
    "def deform_grad_with_macro(F_bar, w_component):\n",
    "    return F_bar + grad(w_component)"
   ]
  },
  {
   "cell_type": "code",
   "execution_count": 11,
   "metadata": {
    "collapsed": false
   },
   "outputs": [],
   "source": [
    "w = Function(VFS)\n",
    "strain_space = TensorFunctionSpace(mesh, 'DG', 0)\n",
    "compute = comp.MicroComputation(cell, mat_li, \n",
    "                                [deform_grad_with_macro],\n",
    "                                [strain_space])"
   ]
  },
  {
   "cell_type": "code",
   "execution_count": 12,
   "metadata": {
    "collapsed": true
   },
   "outputs": [],
   "source": [
    "F_bar = [0.9, 0., 0., 1.]"
   ]
  },
  {
   "cell_type": "code",
   "execution_count": 13,
   "metadata": {
    "collapsed": true
   },
   "outputs": [],
   "source": [
    "compute.input([F_bar], [w])"
   ]
  },
  {
   "cell_type": "code",
   "execution_count": 14,
   "metadata": {
    "collapsed": false
   },
   "outputs": [],
   "source": [
    "# comp.set_solver_parameters('non_lin_newton', lin_method='direct',\n",
    "#                       linear_solver='cholesky')"
   ]
  },
  {
   "cell_type": "code",
   "execution_count": 15,
   "metadata": {
    "collapsed": false
   },
   "outputs": [
    {
     "name": "stdout",
     "output_type": "stream",
     "text": [
      "fluctuation computation finished\n"
     ]
    }
   ],
   "source": [
    "compute.comp_fluctuation(print_progress=True, print_solver_info=False)"
   ]
  },
  {
   "cell_type": "code",
   "execution_count": 16,
   "metadata": {
    "collapsed": true
   },
   "outputs": [],
   "source": [
    "compute.view_fluctuation()"
   ]
  },
  {
   "cell_type": "code",
   "execution_count": 17,
   "metadata": {
    "collapsed": true
   },
   "outputs": [],
   "source": [
    "delta = 0.01"
   ]
  },
  {
   "cell_type": "code",
   "execution_count": 18,
   "metadata": {
    "collapsed": false
   },
   "outputs": [
    {
     "name": "stdout",
     "output_type": "stream",
     "text": [
      "[0.89, 0.0, 0.0, 1.0]\n",
      "fluctuation computation finished\n",
      "[0.88, 0.0, 0.0, 1.0]\n",
      "fluctuation computation finished\n",
      "[0.87, 0.0, 0.0, 1.0]\n",
      "fluctuation computation finished\n",
      "[0.86, 0.0, 0.0, 1.0]\n",
      "fluctuation computation finished\n",
      "[0.85, 0.0, 0.0, 1.0]\n",
      "fluctuation computation finished\n",
      "[0.84, 0.0, 0.0, 1.0]\n",
      "fluctuation computation finished\n",
      "[0.83, 0.0, 0.0, 1.0]\n",
      "fluctuation computation finished\n",
      "[0.82, 0.0, 0.0, 1.0]\n",
      "fluctuation computation finished\n",
      "[0.8099999999999999, 0.0, 0.0, 1.0]\n",
      "fluctuation computation finished\n",
      "[0.7999999999999999, 0.0, 0.0, 1.0]\n",
      "fluctuation computation finished\n"
     ]
    }
   ],
   "source": [
    "for i in range(10):\n",
    "    F_bar[0] -= delta\n",
    "    print F_bar\n",
    "    compute.input([F_bar], [w])\n",
    "    compute.comp_fluctuation(print_progress=True, print_solver_info=False)"
   ]
  }
 ],
 "metadata": {
  "kernelspec": {
   "display_name": "Python 2",
   "language": "python",
   "name": "python2"
  },
  "language_info": {
   "codemirror_mode": {
    "name": "ipython",
    "version": 2
   },
   "file_extension": ".py",
   "mimetype": "text/x-python",
   "name": "python",
   "nbconvert_exporter": "python",
   "pygments_lexer": "ipython2",
   "version": "2.7.6"
  }
 },
 "nbformat": 4,
 "nbformat_minor": 0
}
