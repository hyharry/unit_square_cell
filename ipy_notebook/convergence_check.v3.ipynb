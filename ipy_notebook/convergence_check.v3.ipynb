{
 "metadata": {
  "kernelspec": {
   "display_name": "Python 2",
   "language": "python",
   "name": "python2"
  },
  "language_info": {
   "codemirror_mode": {
    "name": "ipython",
    "version": 2
   },
   "file_extension": ".py",
   "mimetype": "text/x-python",
   "name": "python",
   "nbconvert_exporter": "python",
   "pygments_lexer": "ipython2",
   "version": "2.7.6"
  },
  "name": ""
 },
 "nbformat": 3,
 "nbformat_minor": 0,
 "worksheets": [
  {
   "cells": [
    {
     "cell_type": "code",
     "collapsed": true,
     "input": [
      "from dolfin import *\n",
      "import numpy as np\n",
      "\n",
      "import cell_computation as com\n",
      "import cell_geom as ce\n",
      "import cell_material as ma"
     ],
     "language": "python",
     "metadata": {},
     "outputs": [],
     "prompt_number": 1
    },
    {
     "cell_type": "code",
     "collapsed": true,
     "input": [
      "import logging\n",
      "logging.getLogger('FFC').setLevel(logging.WARNING)"
     ],
     "language": "python",
     "metadata": {},
     "outputs": [],
     "prompt_number": 2
    },
    {
     "cell_type": "heading",
     "level": 2,
     "metadata": {},
     "source": [
      "Setting"
     ]
    },
    {
     "cell_type": "code",
     "collapsed": false,
     "input": [
      "mesh = Mesh(r\"m.xml\")\n",
      "# mesh = Mesh(r\"m_fine.xml\")\n",
      "\n",
      "cell = ce.UnitCell(mesh)\n",
      "\n",
      "inc = ce.InclusionCircle((0.5, 0.5), 0.25)\n",
      "inc_di = {'circle_inc': inc}\n",
      "cell.set_append_inclusion(inc_di)"
     ],
     "language": "python",
     "metadata": {},
     "outputs": [],
     "prompt_number": 3
    },
    {
     "cell_type": "code",
     "collapsed": true,
     "input": [
      "E_m,nu_m,E_i,nu_i = 10.0, 0.3, 1000.0, 0.3\n",
      "\n",
      "mat_m = ma.st_venant_kirchhoff(E_m, nu_m)\n",
      "mat_i = ma.st_venant_kirchhoff(E_i, nu_i)\n",
      "mat_li = [mat_m, mat_i]"
     ],
     "language": "python",
     "metadata": {},
     "outputs": [],
     "prompt_number": 4
    },
    {
     "cell_type": "code",
     "collapsed": false,
     "input": [
      "VFS = VectorFunctionSpace(cell.mesh, \"CG\", 1, constrained_domain=ce.PeriodicBoundary_no_corner())\n",
      "strain_space = TensorFunctionSpace(cell.mesh, 'DG', 0)"
     ],
     "language": "python",
     "metadata": {},
     "outputs": [],
     "prompt_number": 5
    },
    {
     "cell_type": "code",
     "collapsed": true,
     "input": [
      "w = Function(VFS)"
     ],
     "language": "python",
     "metadata": {},
     "outputs": [],
     "prompt_number": 6
    },
    {
     "cell_type": "code",
     "collapsed": true,
     "input": [
      "def deform_grad_with_macro(F_bar, w_component):\n",
      "    return F_bar + grad(w_component)"
     ],
     "language": "python",
     "metadata": {},
     "outputs": [],
     "prompt_number": 7
    },
    {
     "cell_type": "heading",
     "level": 2,
     "metadata": {},
     "source": [
      "Computation Template"
     ]
    },
    {
     "cell_type": "code",
     "collapsed": true,
     "input": [
      "def FD_C_eff(F_bar):\n",
      "    F_bar = [F_bar[0,0], F_bar[0,1], F_bar[1,0], F_bar[1,1]]\n",
      "    \n",
      "    \n",
      "    comp = com.MicroComputation(cell, mat_li, \n",
      "                                [deform_grad_with_macro],\n",
      "                                [strain_space])\n",
      "    \n",
      "    # Start at zero for each F_bar\n",
      "    w = Function(VFS)\n",
      "    \n",
      "    comp.input([F_bar], [w])\n",
      "    comp.comp_fluctuation()\n",
      "\n",
      "    return comp.avg_merge_stress()"
     ],
     "language": "python",
     "metadata": {},
     "outputs": [],
     "prompt_number": 8
    },
    {
     "cell_type": "heading",
     "level": 2,
     "metadata": {},
     "source": [
      "Computation with FD"
     ]
    },
    {
     "cell_type": "markdown",
     "metadata": {},
     "source": [
      "$\\mathbb{C}_{1111} \\qquad  \\mathbb{C}_{1211} \\qquad \\mathbb{C}_{2111} \\qquad  \\mathbb{C}_{2211}$"
     ]
    },
    {
     "cell_type": "code",
     "collapsed": true,
     "input": [
      "F_bar = [0.9, 0., 0., 1.]"
     ],
     "language": "python",
     "metadata": {},
     "outputs": [],
     "prompt_number": 9
    },
    {
     "cell_type": "code",
     "collapsed": true,
     "input": [
      "delta = [0.01, 0.01/2, 0.01/4, 0.01/8, 0.01/16]"
     ],
     "language": "python",
     "metadata": {},
     "outputs": [],
     "prompt_number": 15
    },
    {
     "cell_type": "code",
     "collapsed": true,
     "input": [
      "# sample_num = 8\n",
      "# delta = np.logspace(-2,-4,num=sample_num)"
     ],
     "language": "python",
     "metadata": {},
     "outputs": [],
     "prompt_number": 16
    },
    {
     "cell_type": "code",
     "collapsed": false,
     "input": [
      "F_bar = np.array(F_bar).reshape(2,2)"
     ],
     "language": "python",
     "metadata": {},
     "outputs": [],
     "prompt_number": 17
    },
    {
     "cell_type": "code",
     "collapsed": false,
     "input": [
      "for d in delta:\n",
      "    F_minus = F_bar.copy()\n",
      "    F_minus[0,0] = 0.9 - d/2\n",
      "    F_plus = F_bar.copy()\n",
      "    F_plus[0,0] = 0.9 + d/2\n",
      "    \n",
      "    P_minus = FD_C_eff(F_minus)\n",
      "    P_plus  = FD_C_eff(F_plus)\n",
      "    \n",
      "    print (P_plus - P_minus)/d\n",
      "    print '\\n'"
     ],
     "language": "python",
     "metadata": {},
     "outputs": [
      {
       "output_type": "stream",
       "stream": "stdout",
       "text": [
        "fluctuation computation finished\n",
        "strain computation finished\n",
        "average merge stress computation finished\n",
        "fluctuation computation finished\n",
        "strain computation finished\n",
        "average merge stress computation finished\n",
        "[  1.06007667e+01   3.06884647e-04   3.73899641e-04   5.96468494e+00]\n",
        "\n",
        "\n",
        "fluctuation computation finished\n",
        "strain computation finished\n",
        "average merge stress computation finished\n",
        "fluctuation computation finished\n",
        "strain computation finished\n",
        "average merge stress computation finished\n",
        "[  1.06003904e+01   3.06940046e-04   3.73948623e-04   5.96473132e+00]\n",
        "\n",
        "\n",
        "fluctuation computation finished\n",
        "strain computation finished\n",
        "average merge stress computation finished\n",
        "fluctuation computation finished\n",
        "strain computation finished\n",
        "average merge stress computation finished\n",
        "[  1.06002963e+01   3.06953907e-04   3.73960880e-04   5.96474292e+00]\n",
        "\n",
        "\n",
        "fluctuation computation finished\n",
        "strain computation finished\n",
        "average merge stress computation finished\n",
        "fluctuation computation finished\n",
        "strain computation finished\n",
        "average merge stress computation finished\n",
        "[  1.06002727e+01   3.06957373e-04   3.73963945e-04   5.96474581e+00]\n",
        "\n",
        "\n",
        "fluctuation computation finished\n",
        "strain computation finished\n",
        "average merge stress computation finished\n",
        "fluctuation computation finished\n",
        "strain computation finished\n",
        "average merge stress computation finished\n",
        "[  1.06002668e+01   3.06958239e-04   3.73964711e-04   5.96474654e+00]\n",
        "\n",
        "\n",
        "fluctuation computation finished\n",
        "strain computation finished\n",
        "average merge stress computation finished\n",
        "fluctuation computation finished\n",
        "strain computation finished\n",
        "average merge stress computation finished\n",
        "[  1.06002649e+01   3.06958516e-04   3.73964954e-04   5.96474678e+00]\n",
        "\n",
        "\n"
       ]
      }
     ],
     "prompt_number": 18
    },
    {
     "cell_type": "heading",
     "level": 2,
     "metadata": {},
     "source": [
      "Homogenization Method Result"
     ]
    },
    {
     "cell_type": "code",
     "collapsed": false,
     "input": [
      "F_bar = [0.9, 0., 0., 1.]\n",
      "comp = com.MicroComputation(cell, mat_li, \n",
      "                            [deform_grad_with_macro], [strain_space])\n",
      "\n",
      "# Start at empty w\n",
      "w = Function(VFS)\n",
      "\n",
      "comp.input([F_bar], [w])\n",
      "comp.comp_fluctuation()\n",
      "print comp.effective_moduli_2()"
     ],
     "language": "python",
     "metadata": {},
     "outputs": [
      {
       "output_type": "stream",
       "stream": "stdout",
       "text": [
        "fluctuation computation finished\n",
        "strain computation finished\n",
        "average merge moduli computation finished\n",
        "[[  1.06002649e+01   3.06957941e-04   3.73964877e-04   5.96474679e+00]\n",
        " [  3.06957941e-04   3.09779890e+00   4.16921064e+00  -1.39407196e-04]\n",
        " [  3.73964877e-04   4.16921064e+00   3.02758901e+00  -1.84507395e-04]\n",
        " [  5.96474679e+00  -1.39407196e-04  -1.84507395e-04   1.76183590e+01]]\n",
        "[[  1.06002649e+01   3.06957941e-04   3.73964877e-04   5.96474679e+00]\n",
        " [  3.06957941e-04   3.09779890e+00   4.16921064e+00  -1.39407196e-04]\n",
        " [  3.73964877e-04   4.16921064e+00   3.02758901e+00  -1.84507395e-04]\n",
        " [  5.96474679e+00  -1.39407196e-04  -1.84507395e-04   1.76183590e+01]]\n"
       ]
      }
     ],
     "prompt_number": 20
    },
    {
     "cell_type": "code",
     "collapsed": true,
     "input": [],
     "language": "python",
     "metadata": {},
     "outputs": [],
     "prompt_number": null
    }
   ],
   "metadata": {}
  }
 ]
}