{
 "cells": [
  {
   "cell_type": "code",
   "execution_count": 1,
   "metadata": {},
   "outputs": [],
   "source": [
    "import sys\n",
    "sys.path.append(r'../')"
   ]
  },
  {
   "cell_type": "code",
   "execution_count": 2,
   "metadata": {},
   "outputs": [],
   "source": [
    "from dolfin import *\n",
    "\n",
    "import cell_geom as ce\n",
    "import cell_material as ma\n",
    "import cell_computation as com"
   ]
  },
  {
   "cell_type": "code",
   "execution_count": 3,
   "metadata": {},
   "outputs": [],
   "source": [
    "# Set geometry\n",
    "mesh = Mesh(r\"../m.xml\")\n",
    "cell = ce.UnitCell(mesh)\n",
    "inc = ce.InclusionCircle(2, (0.5, 0.5), 0.25)\n",
    "inc_di = {'circle_inc': inc}\n",
    "cell.set_append_inclusion(inc_di)"
   ]
  },
  {
   "cell_type": "code",
   "execution_count": 4,
   "metadata": {},
   "outputs": [],
   "source": [
    "VFS = VectorFunctionSpace(cell.mesh, \"CG\", 1,\n",
    "                        constrained_domain=ce.PeriodicBoundary_no_corner(2))\n",
    "FS = FunctionSpace(cell.mesh, \"CG\", 1,\n",
    "                       constrained_domain=ce.PeriodicBoundary_no_corner(2))"
   ]
  },
  {
   "cell_type": "code",
   "execution_count": 5,
   "metadata": {},
   "outputs": [],
   "source": [
    "# Set materials\n",
    "E_m, nu_m, Kappa_m = 2e5, 0.4, 7.\n",
    "n = 1000\n",
    "E_i, nu_i, Kappa_i = 1000*E_m, 0.3, n*Kappa_m\n",
    "\n",
    "mat_m = ma.neo_hook_eap(E_m, nu_m, Kappa_m)\n",
    "mat_i = ma.neo_hook_eap(E_i, nu_i, Kappa_i)\n",
    "mat_li = [mat_m, mat_i]"
   ]
  },
  {
   "cell_type": "code",
   "execution_count": 6,
   "metadata": {},
   "outputs": [],
   "source": [
    "# Macro Field Boundary\n",
    "F_bar = [0.9, 0.,\n",
    "             0., 1.]\n",
    "E_bar = [0., 0.2]"
   ]
  },
  {
   "cell_type": "code",
   "execution_count": 7,
   "metadata": {},
   "outputs": [],
   "source": [
    "w = Function(VFS)\n",
    "el_pot_phi = Function(FS)\n",
    "strain_space_w = TensorFunctionSpace(cell.mesh, 'DG', 0)\n",
    "strain_space_E = VectorFunctionSpace(cell.mesh, 'DG', 0)\n",
    "\n",
    "def deform_grad_with_macro(F_bar, w_component):\n",
    "    return F_bar + grad(w_component)\n",
    "\n",
    "def e_field_with_macro(E_bar, phi):\n",
    "    # return E_bar + grad(phi)\n",
    "    return E_bar - grad(phi)"
   ]
  },
  {
   "cell_type": "code",
   "execution_count": 8,
   "metadata": {},
   "outputs": [],
   "source": [
    "# Computation Initialization\n",
    "comp = com.MicroComputation(cell, mat_li,\n",
    "                            [deform_grad_with_macro, e_field_with_macro],\n",
    "                            [strain_space_w, strain_space_E])\n",
    "\n",
    "comp.input([F_bar, E_bar], [w, el_pot_phi])"
   ]
  },
  {
   "cell_type": "code",
   "execution_count": 9,
   "metadata": {
    "scrolled": true
   },
   "outputs": [
    {
     "name": "stdout",
     "output_type": "stream",
     "text": [
      ".-------------------.\n",
      "| Solver Parameters |\n",
      ".-------------------.\n",
      "iterative method is used\n",
      "a valid preconditioner should be provided\n"
     ]
    }
   ],
   "source": [
    "com.set_solver_parameters('non_lin_newton', 'iterative')"
   ]
  },
  {
   "cell_type": "code",
   "execution_count": 10,
   "metadata": {},
   "outputs": [
    {
     "name": "stdout",
     "output_type": "stream",
     "text": [
      "fluctuation computation finished\n"
     ]
    }
   ],
   "source": [
    "comp.comp_fluctuation()"
   ]
  },
  {
   "cell_type": "code",
   "execution_count": 11,
   "metadata": {},
   "outputs": [
    {
     "name": "stdout",
     "output_type": "stream",
     "text": [
      "+----------------------------+\n",
      "| Post Processing Parameters |\n",
      "+----------------------------+\n",
      "iterative method is used\n",
      "a valid preconditioner should be provided\n",
      "strain computation finished\n",
      "average merge moduli computation finished\n"
     ]
    },
    {
     "data": {
      "text/plain": [
       "array([[  8.47401634e+04,   2.60643162e+01,   3.12208885e+01,\n",
       "          4.94745351e+04,   3.26332515e-15,   1.44547980e-11],\n",
       "       [  2.60643162e+01,   5.38339945e+04,   6.48049691e+04,\n",
       "         -2.00799651e+00,   1.41317502e-11,   3.28935774e-15],\n",
       "       [  3.12208885e+01,   6.48049691e+04,   6.30214375e+04,\n",
       "         -4.26559107e+00,   1.57019447e-11,   3.65484191e-15],\n",
       "       [  4.94745351e+04,  -2.00799651e+00,  -4.26559107e+00,\n",
       "          9.55184214e+04,   4.39895674e-15,   1.81228396e-11],\n",
       "       [  3.26332515e-15,   1.41317502e-11,   1.57019447e-11,\n",
       "          4.39895674e-15,  -4.44858493e-11,  -7.39574530e-16],\n",
       "       [  1.44547980e-11,   3.28935774e-15,   3.65484191e-15,\n",
       "          1.81228396e-11,  -7.39574531e-16,  -4.39689106e-11]])"
      ]
     },
     "execution_count": 11,
     "metadata": {},
     "output_type": "execute_result"
    }
   ],
   "source": [
    "# Post-Processing\n",
    "# comp._energy_update()\n",
    "# comp.comp_strain()\n",
    "# comp.comp_stress()\n",
    "# comp.avg_merge_strain()\n",
    "# comp.avg_merge_stress()\n",
    "com.set_post_solver_parameters(lin_method='iterative',)\n",
    "comp.effective_moduli_2()"
   ]
  },
  {
   "cell_type": "code",
   "execution_count": null,
   "metadata": {},
   "outputs": [],
   "source": []
  }
 ],
 "metadata": {
  "kernelspec": {
   "display_name": "Python 3",
   "language": "python",
   "name": "python3"
  },
  "language_info": {
   "codemirror_mode": {
    "name": "ipython",
    "version": 3
   },
   "file_extension": ".py",
   "mimetype": "text/x-python",
   "name": "python",
   "nbconvert_exporter": "python",
   "pygments_lexer": "ipython3",
   "version": "3.6.7"
  }
 },
 "nbformat": 4,
 "nbformat_minor": 1
}
