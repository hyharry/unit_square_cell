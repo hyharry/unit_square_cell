{
 "metadata": {
  "kernelspec": {
   "display_name": "Python 2",
   "language": "python",
   "name": "python2"
  },
  "language_info": {
   "codemirror_mode": {
    "name": "ipython",
    "version": 2
   },
   "file_extension": ".py",
   "mimetype": "text/x-python",
   "name": "python",
   "nbconvert_exporter": "python",
   "pygments_lexer": "ipython2",
   "version": "2.7.6"
  },
  "name": ""
 },
 "nbformat": 3,
 "nbformat_minor": 0,
 "worksheets": [
  {
   "cells": [
    {
     "cell_type": "code",
     "collapsed": true,
     "input": [
      "import sys\n",
      "sys.path.append(r'../')"
     ],
     "language": "python",
     "metadata": {},
     "outputs": [],
     "prompt_number": 1
    },
    {
     "cell_type": "code",
     "collapsed": false,
     "input": [
      "from dolfin import *\n",
      "\n",
      "import cell_geom as ce\n",
      "import cell_material as ma\n",
      "import cell_computation as com"
     ],
     "language": "python",
     "metadata": {},
     "outputs": [],
     "prompt_number": 2
    },
    {
     "cell_type": "code",
     "collapsed": false,
     "input": [
      "# Set geometry\n",
      "mesh = Mesh(r\"../m.xml\")\n",
      "cell = ce.UnitCell(mesh)\n",
      "inc = ce.InclusionCircle(2, (0.5, 0.5), 0.25)\n",
      "inc_di = {'circle_inc': inc}\n",
      "cell.set_append_inclusion(inc_di)"
     ],
     "language": "python",
     "metadata": {},
     "outputs": [],
     "prompt_number": 4
    },
    {
     "cell_type": "code",
     "collapsed": true,
     "input": [
      "VFS = VectorFunctionSpace(cell.mesh, \"CG\", 1,\n",
      "                        constrained_domain=ce.PeriodicBoundary_no_corner(2))\n",
      "FS = FunctionSpace(cell.mesh, \"CG\", 1,\n",
      "                       constrained_domain=ce.PeriodicBoundary_no_corner(2))"
     ],
     "language": "python",
     "metadata": {},
     "outputs": [],
     "prompt_number": 5
    },
    {
     "cell_type": "code",
     "collapsed": false,
     "input": [
      "# Set materials\n",
      "E_m, nu_m, Kappa_m = 2e5, 0.4, 7.\n",
      "n = 1000\n",
      "E_i, nu_i, Kappa_i = 1000*E_m, 0.3, n*Kappa_m\n",
      "\n",
      "mat_m = ma.neo_hook_eap(E_m, nu_m, Kappa_m)\n",
      "mat_i = ma.neo_hook_eap(E_i, nu_i, Kappa_i)\n",
      "mat_li = [mat_m, mat_i]"
     ],
     "language": "python",
     "metadata": {},
     "outputs": [],
     "prompt_number": 6
    },
    {
     "cell_type": "code",
     "collapsed": true,
     "input": [
      "# Macro Field Boundary\n",
      "F_bar = [0.9, 0.,\n",
      "             0., 1.]\n",
      "E_bar = [0., 0.2]"
     ],
     "language": "python",
     "metadata": {},
     "outputs": [],
     "prompt_number": 7
    },
    {
     "cell_type": "code",
     "collapsed": true,
     "input": [
      "w = Function(VFS)\n",
      "el_pot_phi = Function(FS)\n",
      "strain_space_w = TensorFunctionSpace(cell.mesh, 'DG', 0)\n",
      "strain_space_E = VectorFunctionSpace(cell.mesh, 'DG', 0)\n",
      "\n",
      "def deform_grad_with_macro(F_bar, w_component):\n",
      "    return F_bar + grad(w_component)\n",
      "\n",
      "def e_field_with_macro(E_bar, phi):\n",
      "    # return E_bar + grad(phi)\n",
      "    return E_bar - grad(phi)"
     ],
     "language": "python",
     "metadata": {},
     "outputs": [],
     "prompt_number": 8
    },
    {
     "cell_type": "code",
     "collapsed": false,
     "input": [
      "# Computation Initialization\n",
      "comp = com.MicroComputation(cell, mat_li,\n",
      "                            [deform_grad_with_macro, e_field_with_macro],\n",
      "                            [strain_space_w, strain_space_E])\n",
      "\n",
      "comp.input([F_bar, E_bar], [w, el_pot_phi])"
     ],
     "language": "python",
     "metadata": {},
     "outputs": [],
     "prompt_number": 11
    },
    {
     "cell_type": "code",
     "collapsed": false,
     "input": [
      "com.set_solver_parameters('non_lin_newton', 'iterative')\n",
      "comp.comp_fluctuation()"
     ],
     "language": "python",
     "metadata": {},
     "outputs": [
      {
       "output_type": "stream",
       "stream": "stdout",
       "text": [
        ".-------------------.\n",
        "| Solver Parameters |\n",
        ".-------------------.\n",
        "iterative method is used\n",
        "a valid preconditioner should be provided\n",
        "fluctuation computation finished\n"
       ]
      }
     ],
     "prompt_number": 14
    },
    {
     "cell_type": "code",
     "collapsed": false,
     "input": [
      "# Post-Processing\n",
      "# comp._energy_update()\n",
      "# comp.comp_strain()\n",
      "# comp.comp_stress()\n",
      "# comp.avg_merge_strain()\n",
      "# comp.avg_merge_stress()\n",
      "com.set_post_solver_parameters(lin_method='iterative',)\n",
      "comp.effective_moduli_2()"
     ],
     "language": "python",
     "metadata": {},
     "outputs": [
      {
       "output_type": "stream",
       "stream": "stdout",
       "text": [
        "+----------------------------+\n",
        "| Post Processing Parameters |\n",
        "+----------------------------+\n",
        "iterative method is used\n",
        "a valid preconditioner should be provided\n",
        "strain computation finished\n",
        "average merge moduli computation finished\n"
       ]
      },
      {
       "metadata": {},
       "output_type": "pyout",
       "prompt_number": 16,
       "text": [
        "array([[  1.26883402e+06,  -4.49078665e+00,  -4.83500579e+00,\n",
        "          1.05448572e+06,   3.43014646e+00,  -1.31287131e+04],\n",
        "       [ -4.49078665e+00,   3.23056744e+05,   4.48793468e+03,\n",
        "         -3.63142126e+00,  -1.68646916e+04,   9.83189712e-01],\n",
        "       [ -4.83500579e+00,   4.48793468e+03,   3.26994719e+05,\n",
        "         -4.17418661e+00,  -1.87385462e+04,   1.09243307e+00],\n",
        "       [  1.05448572e+06,  -3.63142126e+00,  -4.17418661e+00,\n",
        "          1.51230096e+06,   1.88268438e+00,  -4.68998016e+04],\n",
        "       [  3.43014646e+00,  -1.68646916e+04,  -1.87385462e+04,\n",
        "          1.88268438e+00,   1.17449809e+05,  -5.45488872e+00],\n",
        "       [ -1.31287131e+04,   9.83189712e-01,   1.09243307e+00,\n",
        "         -4.68998016e+04,  -5.45488872e+00,   9.79273015e+04]])"
       ]
      }
     ],
     "prompt_number": 16
    }
   ],
   "metadata": {}
  }
 ]
}