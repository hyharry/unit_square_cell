{
 "metadata": {
  "kernelspec": {
   "display_name": "Python 2",
   "language": "python",
   "name": "python2"
  },
  "language_info": {
   "codemirror_mode": {
    "name": "ipython",
    "version": 2
   },
   "file_extension": ".py",
   "mimetype": "text/x-python",
   "name": "python",
   "nbconvert_exporter": "python",
   "pygments_lexer": "ipython2",
   "version": "2.7.6"
  },
  "name": ""
 },
 "nbformat": 3,
 "nbformat_minor": 0,
 "worksheets": [
  {
   "cells": [
    {
     "cell_type": "heading",
     "level": 1,
     "metadata": {},
     "source": [
      "Manual on cell_material.py"
     ]
    },
    {
     "cell_type": "markdown",
     "metadata": {},
     "source": [
      "- ## Overview"
     ]
    },
    {
     "cell_type": "markdown",
     "metadata": {},
     "source": [
      "The main class of this file is `class Material`, which defines the material with material free energy function. Material free energy function in the implementation is a function of invariants. Plasticity and viscosity are not included in the current state."
     ]
    },
    {
     "cell_type": "markdown",
     "metadata": {},
     "source": [
      "- ## Definition Steps\n",
      "\n",
      " 1. setup free energy function `psi` \n",
      " 2. relations between invariants `[invar1, invar2, ...]` and physical variables `[C, F, E, M, T, ...]`\n",
      " 3. initialize material with free energy function and a list of constants\n",
      " 4. use class member method `invariant_generator_append()` to pass invariants relation into the initialized material\n",
      "\n",
      "Note that step 3 and step 4 can be unified by direct calling\n",
      "\n",
      "`Material(psi, [parameter1, ...], [invariant1_dependency_tuple, ...], [invariant_generator1, ...])`\n",
      "\n",
      "Detailed examples are given in the following part"
     ]
    },
    {
     "cell_type": "markdown",
     "metadata": {},
     "source": [
      "- ## Call the defined material\n",
      "\n",
      "The name of defined material can be called directly, since the internal `__call__()` method is implemented, and the corresponding arguments are the physical variables for this material. Then a material instantiation is complete with its energy on the corresponding variables."
     ]
    },
    {
     "cell_type": "markdown",
     "metadata": {},
     "source": [
      "- ## Typical Example (Saint-Venant Kirchhoff Material)\n",
      "\n",
      "Material energy function is\n",
      "$$\\psi\\left( \\mathbf{E} \\right) = \\dfrac{\\lambda}{2} \\left[ \\text{tr}(\\mathbf{E}) \\right]^{2} + \\mu \\text{tr} \\left( \\mathbf{E}^{2} \\right)$$\n",
      "\n",
      "where $\\mathbf{E}$ is the Green-Lagrange Tensor, $\\lambda$ and $\\mu$ are Lame constants. Detailed illustration can be viewed [here][wiki hyper elas]. \n",
      "\n",
      "If the energy is represented by means of invariants, the energy and invariants can be formulated as\n",
      "$$\\psi\\left( I_{1}, I_{2} \\right) = \\dfrac{\\lambda}{2} I_{1}^{2} + \\mu I_{2}$$\n",
      "\n",
      "with $I_{1} = \\text{tr}(\\mathbf{E})$, and $I_{2} = \\text{tr} \\left( \\mathbf{E}^{2} \\right)$\n",
      "\n",
      "[wiki hyper elas]:https://en.wikipedia.org/wiki/Hyperelastic_material\n",
      "\n",
      "So the material definition following the above steps are "
     ]
    },
    {
     "cell_type": "code",
     "collapsed": true,
     "input": [
      "from dolfin import *\n",
      "import sys\n",
      "sys.path.append('../')\n",
      "import cell_material as mat\n",
      "\n",
      "# Step1: Energy function\n",
      "def psi(inv, lmbda, mu):\n",
      "    return 0.5 * lmbda * (inv[0]) ** 2 + mu * inv[1]\n",
      "\n",
      "# Step2: Invariants \n",
      "def invariant1(F):\n",
      "    dim = F.geometric_dimension()\n",
      "    I = Identity(dim)\n",
      "    C = F.T * F\n",
      "    E = 0.5 * (C - I)\n",
      "    return tr(E)\n",
      "\n",
      "def invariant2(F):\n",
      "    dim = F.geometric_dimension()\n",
      "    I = Identity(dim)\n",
      "    C = F.T * F\n",
      "    E = 0.5 * (C - I)\n",
      "    return tr(E.T * E)\n",
      "\n",
      "# Step3: Initialization of material\n",
      "mu = 7.6e10\n",
      "lmbda = 9.7e10\n",
      "# Instantiation with energy function and material parameters\n",
      "svk = mat.Material(psi, [lmbda, mu])\n",
      "\n",
      "# Step4: Pass invariants generator\n",
      "# Feed the invariant generators\n",
      "svk.invariant_generator_append((0,), [invariant1, invariant2])"
     ],
     "language": "python",
     "metadata": {},
     "outputs": [],
     "prompt_number": 3
    },
    {
     "cell_type": "markdown",
     "metadata": {},
     "source": [
      "Step 3 and step 4 can be combined to the following"
     ]
    },
    {
     "cell_type": "code",
     "collapsed": true,
     "input": [
      "svk = mat.Material(psi, [lmbda, mu], [(0,)], [[invariant1, invariant2]])"
     ],
     "language": "python",
     "metadata": {},
     "outputs": [],
     "prompt_number": 5
    },
    {
     "cell_type": "markdown",
     "metadata": {},
     "source": [
      "The call of Saint-Venant Kirchhoff Material is just to plug in the field variable $F$"
     ]
    },
    {
     "cell_type": "code",
     "collapsed": false,
     "input": [
      "# Generate field variable\n",
      "mesh = UnitSquareMesh(2, 2)\n",
      "TFS = TensorFunctionSpace(mesh, 'CG', 1)\n",
      "F = Function(TFS)\n",
      "\n",
      "# Complete instantiation of material\n",
      "svk([F])"
     ],
     "language": "python",
     "metadata": {},
     "outputs": [
      {
       "output_type": "stream",
       "stream": "stderr",
       "text": [
        "DEBUG:FFC:Reusing form from cache.\n"
       ]
      }
     ],
     "prompt_number": 6
    },
    {
     "cell_type": "code",
     "collapsed": false,
     "input": [
      "# Print free enery function\n",
      "print svk.psi"
     ],
     "language": "python",
     "metadata": {},
     "outputs": [
      {
       "output_type": "stream",
       "stream": "stdout",
       "text": [
        "48500000000.0 * (tr({ A | A_{i_{47}, i_{48}} = 0.5 * (({ A | A_{i_{45}, i_{46}} = -1 * I[i_{45}, i_{46}] }) + ({ A | A_{i_{42}, i_{43}} = sum_{i_{44}} f_16[i_{44}, i_{43}] * ((f_16)^T)[i_{42}, i_{44}]  }))[i_{47}, i_{48}] })) ** 2 + 76000000000.0 * (tr({ A | A_{i_{56}, i_{57}} = sum_{i_{58}} ({ A | A_{i_{54}, i_{55}} = 0.5 * (({ A | A_{i_{52}, i_{53}} = -1 * I[i_{52}, i_{53}] }) + ({ A | A_{i_{49}, i_{50}} = sum_{i_{51}} f_16[i_{51}, i_{50}] * ((f_16)^T)[i_{49}, i_{51}]  }))[i_{54}, i_{55}] })[i_{58}, i_{57}] * (({ A | A_{i_{54}, i_{55}} = 0.5 * (({ A | A_{i_{52}, i_{53}} = -1 * I[i_{52}, i_{53}] }) + ({ A | A_{i_{49}, i_{50}} = sum_{i_{51}} f_16[i_{51}, i_{50}] * ((f_16)^T)[i_{49}, i_{51}]  }))[i_{54}, i_{55}] })^T)[i_{56}, i_{58}]  }))\n"
       ]
      }
     ],
     "prompt_number": 7
    },
    {
     "cell_type": "markdown",
     "metadata": {},
     "source": [
      "- ## Material Library\n",
      "\n",
      "Three different materials are implemented in the material library, where we do not need to define the energy function and related invariants. The required input left consists of parameters for materials and their physical field variables.\n",
      "\n",
      "These three materials __Saint Venant-Kirchhoff Material__, __Simo-Pister Material__, and __Neo Hookean Type Electroactive Material__. Their energy functions are as follows\n",
      "\n",
      " 1. Saint Venant-Kirchhoff Material\n",
      " $$\\psi\\left( \\mathbf{E} \\right) = \\dfrac{\\lambda}{2} \\left[ \\text{tr}(\\mathbf{E}) \\right]^{2} + \\mu \\text{tr} \\left( \\mathbf{E}^{2} \\right)$$\n",
      " \n",
      " 2. Simo-Pister Material\n",
      " $$\\psi\\left( \\theta, \\mathbf{C} \\right) = \\frac{1}{2}\\mu_{0} \\left( I_{C}-3 \\right) + \\left( m_{0}\\Delta \\theta \\mu_{0}\\right) \\ln (\\det \\mathbf{C})^{\\frac{1}{2}} + \\frac{1}{2} \\lambda_{0} \\left[ \\ln \\left( \\det \\mathbf{C} \\right)^{\\frac{1}{2}} \\right]^{2} - \\rho_{0} c_{V} \\left( \\theta \\ln\\dfrac{\\theta}{\\theta_{0}} - \\Delta \\theta \\right)$$\n",
      " It describes the behaviour of thermo elastic material and $\\theta$ represents temperature. This material is taugh in the course _Hoehere Mechanik 3_\n",
      " \n",
      " 3. Neo Hookean Type Electroactive Material\n",
      " $$\\psi\\left( \\mathbf{C}, \\mathbf{E} \\right) =  \\frac{1}{2}\\mu_{0} \\left( \\text{tr}[\\mathbf{C}]-3 \\right) + \\dfrac{\\lambda}{4} \\left( J^{2}-1 \\right) - \\left( \\dfrac{\\lambda}{2} + \\mu \\right) \\ln J - \\frac{1}{2} \\epsilon_{0} \\left( 1+\\dfrac{\\chi}{J} \\right) J \\left[ \\mathbf{C}^{-1}: (\\mathbf{E} \\otimes \\mathbf{E}) \\right]$$\n",
      " This energy function describe the behaviour in the coupled field, mechanical behaviour and electrical behaviour, where $\\mathbf{E}$ is the Green-Lagrange tensor, while $\\mathbf{C}$ right Cauchy-Green tensor. The material model is referred to the paper of ...\n",
      " \n",
      "It is possible to add other material models in the current material library. One should implement then the free energy function, invariants by oneself."
     ]
    },
    {
     "cell_type": "markdown",
     "metadata": {
      "collapsed": true
     },
     "source": [
      "- ## Neo Hookean Type Electroactive Polymer\n",
      "\n",
      "The realization of Neo Hookean Type Electroactive Polymer is given below"
     ]
    },
    {
     "cell_type": "code",
     "collapsed": true,
     "input": [
      "def neo_hook_eap(E_m, nu_m, kappa, epsi0=8.85e-12):\n",
      "    \"\"\"\n",
      "    Neo-Hookean-type EAP from 'Keip, Steinmann, Schroeder, 2014, CMAME'\n",
      "\n",
      "    :param E_m: Young's Modulus\n",
      "    :param nu_m: Poisson ratio\n",
      "    :param epsi0: Vacuum Permittivity\n",
      "    :param kappa: Electric Susceptivity\n",
      "\n",
      "    :return: Matrial nh_eap\n",
      "    \"\"\"\n",
      "    miu = E_m / (2 * (1 + nu_m))\n",
      "    lmbda = E_m * nu_m / ((1 + nu_m) * (1 - 2 * nu_m))\n",
      "\n",
      "    def psi(inva, miu, lmbda, kappa, epsi0):\n",
      "        mech_term = 0.5 * miu * (inva[0] - 3) + lmbda / 4 * (inva[1] ** 2 - 1) - \\\n",
      "                    (lmbda / 2 + miu) * ln(inva[1])\n",
      "        couple_term = -1 / 2 * epsi0 * (1 + kappa / inva[1]) * inva[1] * inva[2]\n",
      "        return mech_term + couple_term\n",
      "\n",
      "    nh_eap = Material(psi, [miu, lmbda, kappa, epsi0])\n",
      "\n",
      "    def sqr_tr(F):\n",
      "        return tr(F.T * F)\n",
      "\n",
      "    nh_eap.invariant_generator_append((0,), [sqr_tr, det])\n",
      "    couple_invar_gen = lambda F, E: inner(inv(F.T * F), outer(E, E))\n",
      "    nh_eap.invariant_generator_append((0, 1), [couple_invar_gen])\n",
      "\n",
      "    return nh_eap"
     ],
     "language": "python",
     "metadata": {},
     "outputs": [],
     "prompt_number": null
    }
   ],
   "metadata": {}
  }
 ]
}