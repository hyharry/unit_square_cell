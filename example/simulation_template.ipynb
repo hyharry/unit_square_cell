{
 "cells": [
  {
   "cell_type": "code",
   "execution_count": 2,
   "metadata": {
    "collapsed": false
   },
   "outputs": [],
   "source": [
    "from dolfin import *\n",
    "\n",
    "import numpy as np\n",
    "\n",
    "import sys\n",
    "sys.path.append('../')\n",
    "\n",
    "import cell_geom as geom\n",
    "import cell_material as mat\n",
    "import cell_computation as comp\n",
    "\n",
    "## Linear Backend\n",
    "\n",
    "parameters['linear_algebra_backend'] = 'Eigen'\n",
    "\n",
    "## Define Geometry\n",
    "\n",
    "mesh = Mesh(r'../m_fine.xml')\n",
    "\n",
    "cell = geom.UnitCell(mesh)\n",
    "\n",
    "# Add inclusion\n",
    "inc = geom.InclusionCircle(2, (0.5, 0.5), 0.25)\n",
    "inc_di = {'circle_inc': inc}\n",
    "cell.set_append_inclusion(inc_di)\n",
    "\n",
    "## Define Material\n",
    "\n",
    "E_m, nu_m, E_i, nu_i = 10.0, 0.3, 1000.0, 0.3\n",
    "mat_m = mat.st_venant_kirchhoff(E_m, nu_m)\n",
    "mat_i = mat.st_venant_kirchhoff(E_i, nu_i)\n",
    "mat_li = [mat_m, mat_i]\n",
    "\n",
    "## Define Computation\n",
    "\n",
    "VFS = VectorFunctionSpace(cell.mesh, \"CG\", 1, \n",
    "                          constrained_domain=geom.PeriodicBoundary_no_corner(2))\n",
    "\n",
    "def deform_grad_with_macro(F_bar, w_component):\n",
    "    return F_bar + grad(w_component)\n",
    "\n",
    "w = Function(VFS)\n",
    "strain_space = TensorFunctionSpace(mesh, 'DG', 0)\n",
    "compute = comp.MicroComputation(cell, mat_li, \n",
    "                                [deform_grad_with_macro],\n",
    "                                [strain_space])\n",
    "\n",
    "F_bar = [0.9, 0., 0., 1.]\n",
    "\n",
    "compute.input([F_bar], [w])\n",
    "\n",
    "# comp.set_solver_parameters('non_lin_newton', lin_method='direct',\n",
    "#                       linear_solver='cholesky')\n",
    "\n",
    "compute.comp_fluctuation(print_progress=True, print_solver_info=False)\n",
    "\n",
    "compute.view_fluctuation()\n",
    "\n",
    "delta = 0.01\n",
    "\n",
    "for i in range(10):\n",
    "    F_bar[0] -= delta\n",
    "    print F_bar\n",
    "    compute.input([F_bar], [w])\n",
    "    compute.comp_fluctuation(print_progress=True, print_solver_info=False)"
   ]
  },
  {
   "cell_type": "code",
   "execution_count": null,
   "metadata": {
    "collapsed": true
   },
   "outputs": [],
   "source": []
  }
 ],
 "metadata": {
  "kernelspec": {
   "display_name": "Python 2",
   "language": "python",
   "name": "python2"
  },
  "language_info": {
   "codemirror_mode": {
    "name": "ipython",
    "version": 2
   },
   "file_extension": ".py",
   "mimetype": "text/x-python",
   "name": "python",
   "nbconvert_exporter": "python",
   "pygments_lexer": "ipython2",
   "version": "2.7.6"
  }
 },
 "nbformat": 4,
 "nbformat_minor": 0
}
