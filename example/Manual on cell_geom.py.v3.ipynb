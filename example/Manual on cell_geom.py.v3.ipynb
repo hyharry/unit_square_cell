{
 "metadata": {
  "kernelspec": {
   "display_name": "Python 2",
   "language": "python",
   "name": "python2"
  },
  "language_info": {
   "codemirror_mode": {
    "name": "ipython",
    "version": 2
   },
   "file_extension": ".py",
   "mimetype": "text/x-python",
   "name": "python",
   "nbconvert_exporter": "python",
   "pygments_lexer": "ipython2",
   "version": "2.7.6"
  },
  "name": ""
 },
 "nbformat": 3,
 "nbformat_minor": 0,
 "worksheets": [
  {
   "cells": [
    {
     "cell_type": "markdown",
     "metadata": {},
     "source": [
      "# Table of Contents\n",
      "* [Overview](#Overview)\n",
      "* [Inclusions](#Inclusions)\n",
      "\t* [2D Case](#2D-Case)\n",
      "\t* [3D Case](#3D-Case)\n",
      "* [Peirodic Boundary Condition](#Peirodic-Boundary-Condition)\n"
     ]
    },
    {
     "cell_type": "heading",
     "level": 1,
     "metadata": {
      "collapsed": true
     },
     "source": [
      "Overview"
     ]
    },
    {
     "cell_type": "markdown",
     "metadata": {},
     "source": [
      "In this file `class UnitCell` is defined, where possible inclusions can be added to the unit cell. The member methods of this class are constructor, `set_append_inclusion`, `add_mark_boundary`, `view_mesh`, and `view_domain`. The instance of this method is instantiated with a `Mesh` object in _FEniCS_. A `UnitCell` instance can be either two dimensional or three dimensional.\n",
      "\n",
      "Classes for creation of inclusions are included in the current file, namely `InclusionCircle` and `InclusionRectangle`. Besides, `PeriodicBoundary_no_corner` is a class specifying the periodic map for _periodic boundary condition_ in homogenization problem."
     ]
    },
    {
     "cell_type": "heading",
     "level": 1,
     "metadata": {},
     "source": [
      "Inclusions"
     ]
    },
    {
     "cell_type": "markdown",
     "metadata": {},
     "source": [
      "Setting a unit cell and its inclusions is introduced in this part. We first import modules"
     ]
    },
    {
     "cell_type": "code",
     "collapsed": true,
     "input": [
      "from dolfin import *\n",
      "import sys\n",
      "sys.path.append('../')\n",
      "import cell_geom as geom"
     ],
     "language": "python",
     "metadata": {},
     "outputs": [],
     "prompt_number": 2
    },
    {
     "cell_type": "heading",
     "level": 2,
     "metadata": {},
     "source": [
      "2D Case"
     ]
    },
    {
     "cell_type": "markdown",
     "metadata": {},
     "source": [
      "__Import mesh and instantiation__"
     ]
    },
    {
     "cell_type": "code",
     "collapsed": false,
     "input": [
      "mesh = Mesh(r\"../m.xml\")\n",
      "\n",
      "# Generate Inclusion\n",
      "inc1 = geom.InclusionCircle(2, (0.5, 0.5), 0.25)\n",
      "inc_group = {'circle_inc1': inc1}\n",
      "\n",
      "# Initiate UnitCell Instance with Inclusion\n",
      "cell = geom.UnitCell(mesh, inc_group)\n",
      "cell.view_domain()"
     ],
     "language": "python",
     "metadata": {},
     "outputs": [],
     "prompt_number": 3
    },
    {
     "cell_type": "markdown",
     "metadata": {},
     "source": [
      "__Multiple inclusions and append inclusion__"
     ]
    },
    {
     "cell_type": "code",
     "collapsed": false,
     "input": [
      "mesh = UnitSquareMesh(40, 40, 'crossed')\n",
      "\n",
      "# Instantiation with inclusions\n",
      "inc1 = geom.InclusionCircle(2, (0.1, 0.1), 0.5)\n",
      "inc2 = geom.InclusionCircle(2, (0.9, 0.9), 0.5)\n",
      "inc_group_1 = {'circle_inc1': inc1, 'circle_inc2': inc2,}\n",
      "cell = geom.UnitCell(mesh, inc_group_1)\n",
      "cell.view_domain()"
     ],
     "language": "python",
     "metadata": {},
     "outputs": [],
     "prompt_number": 7
    },
    {
     "cell_type": "code",
     "collapsed": true,
     "input": [
      "# Another group of inlusions\n",
      "inc3 = geom.InclusionRectangle(2, 0.1, 0.3, 0.7, 0.9)\n",
      "inc4 = geom.InclusionRectangle(2, 0.7, 0.9, 0.1, 0.3)\n",
      "inc_group_2 = {'rect_inc3': inc3, 'rect_inc4': inc4}\n",
      "\n",
      "# Append inclusions and view\n",
      "cell.set_append_inclusion(inc_group_2)\n",
      "cell.view_domain()"
     ],
     "language": "python",
     "metadata": {},
     "outputs": [],
     "prompt_number": 8
    },
    {
     "cell_type": "heading",
     "level": 2,
     "metadata": {},
     "source": [
      "3D Case"
     ]
    },
    {
     "cell_type": "markdown",
     "metadata": {},
     "source": [
      "__Multiple inclusions and append inclusion__"
     ]
    },
    {
     "cell_type": "code",
     "collapsed": false,
     "input": [
      "mesh = UnitCubeMesh(20, 20, 20)\n",
      "\n",
      "# 9 Inclusions with 8 corner inclusions and one sphere inclusion in the center\n",
      "inc = geom.InclusionCircle(3, 0.5)\n",
      "inc1 = geom.InclusionRectangle(3, 0., 0.3, 0., 0.3, 0., 0.3)\n",
      "inc2 = geom.InclusionRectangle(3, 0., 0.3, 0., 0.3, 0.7, 1.)\n",
      "inc3 = geom.InclusionRectangle(3, 0., 0.3, 0.7, 1., 0., 0.3)\n",
      "inc4 = geom.InclusionRectangle(3, 0., 0.3, 0.7, 1., 0.7, 1.)\n",
      "inc5 = geom.InclusionRectangle(3, 0.7, 1., 0., 0.3, 0., 0.3)\n",
      "inc6 = geom.InclusionRectangle(3, 0.7, 1., 0., 0.3, 0.7, 1.)\n",
      "inc7 = geom.InclusionRectangle(3, 0.7, 1., 0.7, 1., 0., 0.3)\n",
      "inc8 = geom.InclusionRectangle(3, 0.7, 1., 0.7, 1., 0.7, 1.)\n",
      "inc_group = {'circle': inc, 'corner1': inc1, 'corner2': inc2,\n",
      "             'corner3': inc3, 'corner4': inc4, 'corner5': inc5,\n",
      "             'corner6': inc6, 'corner7': inc7, 'corner8': inc8}\n",
      "cell = geom.UnitCell(mesh, inc_group)\n",
      "\n",
      "cell.view_domain()"
     ],
     "language": "python",
     "metadata": {},
     "outputs": [],
     "prompt_number": 11
    },
    {
     "cell_type": "heading",
     "level": 1,
     "metadata": {},
     "source": [
      "Peirodic Boundary Condition"
     ]
    },
    {
     "cell_type": "markdown",
     "metadata": {},
     "source": [
      "Periodic mapping for FunctionSpace initiallization. Both 2D case and 3D case are covered. This periodic mapping excludes corners of unit cell. In unit cell computation these corners are set fixed to prevent rigid body movement."
     ]
    },
    {
     "cell_type": "code",
     "collapsed": false,
     "input": [
      "# 2D\n",
      "a, b = 3, 6\n",
      "mesh_2d = UnitSquareMesh(a, b)\n",
      "FS_2d = geom.FunctionSpace(mesh_2d, 'CG', 1,\n",
      "                           constrained_domain=geom.PeriodicBoundary_no_corner(2))\n",
      "f = geom.Function(FS_2d)\n",
      "\n",
      "# DoF that are cancelled out\n",
      "print '2D periodic map'\n",
      "print 'original DoF =', (a + 1) * (b + 1), ';',\n",
      "print 'actual DoF =', f.vector().size(), ';',\n",
      "print 'the excluded DoF =', (a - 1 + b - 1)"
     ],
     "language": "python",
     "metadata": {},
     "outputs": [
      {
       "output_type": "stream",
       "stream": "stdout",
       "text": [
        "2D periodic map\n",
        "original DoF = 28 ; actual DoF = 21 ; the excluded DoF = 7\n"
       ]
      }
     ],
     "prompt_number": 16
    },
    {
     "cell_type": "code",
     "collapsed": false,
     "input": [
      "# 3D\n",
      "a, b, c = 3, 6, 9\n",
      "mesh_3d = geom.UnitCubeMesh(a, b, c)\n",
      "FS_3d = geom.FunctionSpace(mesh_3d, 'CG', 1,\n",
      "                           constrained_domain=geom.PeriodicBoundary_no_corner(3))\n",
      "f = geom.Function(FS_3d)\n",
      "\n",
      "# DoF that are cancelled out\n",
      "print '3D periodic map'\n",
      "print 'original DoF =', (a + 1) * (b + 1) * (c + 1), ';',\n",
      "print 'actual DoF =', f.vector().size(), ';',\n",
      "print 'the excluded DoF =', (a - 1 + b - 1 + c - 1) * 3 + \\\n",
      "        (a - 1) * (b - 1) + (a - 1) * (c - 1) + (b - 1) * (c - 1)"
     ],
     "language": "python",
     "metadata": {},
     "outputs": [
      {
       "output_type": "stream",
       "stream": "stdout",
       "text": [
        "3D periodic map\n",
        "original DoF = 280 ; actual DoF = 169 ; the excluded DoF = 111\n"
       ]
      }
     ],
     "prompt_number": 20
    }
   ],
   "metadata": {}
  }
 ]
}