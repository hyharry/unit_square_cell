{
 "cells": [
  {
   "cell_type": "code",
   "execution_count": 1,
   "metadata": {
    "collapsed": true
   },
   "outputs": [],
   "source": [
    "import cell_computation as com\n",
    "import cell_prop as ce\n",
    "from dolfin import *"
   ]
  },
  {
   "cell_type": "code",
   "execution_count": 2,
   "metadata": {
    "collapsed": true
   },
   "outputs": [],
   "source": [
    "import numpy as np"
   ]
  },
  {
   "cell_type": "code",
   "execution_count": 3,
   "metadata": {
    "collapsed": true
   },
   "outputs": [],
   "source": [
    "import logging\n",
    "logging.getLogger('FFC').setLevel(logging.WARNING)"
   ]
  },
  {
   "cell_type": "markdown",
   "metadata": {},
   "source": [
    "## Geometry and Boundary"
   ]
  },
  {
   "cell_type": "code",
   "execution_count": 4,
   "metadata": {
    "collapsed": true
   },
   "outputs": [],
   "source": [
    "mesh = Mesh(r\"m.xml\")\n",
    "# mesh = Mesh(r\"m_fine.xml\")\n",
    "\n",
    "cell = ce.unit_cell(mesh)\n",
    "\n",
    "inc = ce.Inclusion_Circle()\n",
    "inc = [inc]\n",
    "cell.inclusion(inc)"
   ]
  },
  {
   "cell_type": "code",
   "execution_count": 5,
   "metadata": {
    "collapsed": true
   },
   "outputs": [],
   "source": [
    "VFS = VectorFunctionSpace(cell.mesh, \"CG\", 1, constrained_domain=ce.PeriodicBoundary_no_corner())"
   ]
  },
  {
   "cell_type": "code",
   "execution_count": 6,
   "metadata": {
    "collapsed": false
   },
   "outputs": [],
   "source": [
    "corners = cell.mark_corner_bc()\n",
    "\n",
    "# impose the boundary conditions according to the macroscopic deformation F_bar\n",
    "fixed_corner = Constant((0.0,0.0))\n",
    "bc = []\n",
    "for c in corners:\n",
    "    bc.append(DirichletBC(VFS, fixed_corner, c, method='pointwise'))"
   ]
  },
  {
   "cell_type": "markdown",
   "metadata": {},
   "source": [
    "## Computation Template"
   ]
  },
  {
   "cell_type": "code",
   "execution_count": 7,
   "metadata": {
    "collapsed": true
   },
   "outputs": [],
   "source": [
    "def FD_C_eff(F_bar,cell,bc,VFS,E_m,nu_m,E_i,nu_i):\n",
    "    F_bar = [F_bar[0,0], F_bar[0,1], F_bar[1,0], F_bar[1,1]]\n",
    "    comp = com.computation(cell, bc, VFS)\n",
    "    comp.F_bar_init(F_bar)\n",
    "\n",
    "    psi_m = comp.material_energy(E_m, nu_m)\n",
    "    psi_i = comp.material_energy(E_i, nu_i)\n",
    "\n",
    "    comp.compute(psi_m,psi_i)\n",
    "\n",
    "    comp.compute_strain()\n",
    "    psi_m = comp.material_energy(E_m, nu_m)\n",
    "    psi_i = comp.material_energy(E_i, nu_i)\n",
    "    return comp.avg_stress(psi_m,psi_i)"
   ]
  },
  {
   "cell_type": "markdown",
   "metadata": {},
   "source": [
    "## Computation with FD\n",
    "$\\mathbb{C}_{1111} \\qquad  \\mathbb{C}_{1211} \\qquad \\mathbb{C}_{2111} \\qquad  \\mathbb{C}_{2211}$"
   ]
  },
  {
   "cell_type": "code",
   "execution_count": 8,
   "metadata": {
    "collapsed": true
   },
   "outputs": [],
   "source": [
    "E_m,nu_m,E_i,nu_i = 10.0, 0.3, 1000.0, 0.3"
   ]
  },
  {
   "cell_type": "code",
   "execution_count": 9,
   "metadata": {
    "collapsed": true
   },
   "outputs": [],
   "source": [
    "F_bar = [0.9, 0., 0., 1.]"
   ]
  },
  {
   "cell_type": "markdown",
   "metadata": {},
   "source": [
    "- 1.observation"
   ]
  },
  {
   "cell_type": "code",
   "execution_count": 11,
   "metadata": {
    "collapsed": false
   },
   "outputs": [
    {
     "name": "stdout",
     "output_type": "stream",
     "text": [
      "fluctuation computation finished\n",
      "strain computation finished\n",
      "fluctuation computation finished\n",
      "strain computation finished\n",
      "fluctuation computation finished\n",
      "strain computation finished\n",
      "fluctuation computation finished\n",
      "strain computation finished\n",
      "fluctuation computation finished\n",
      "strain computation finished\n",
      "fluctuation computation finished\n",
      "strain computation finished\n",
      "fluctuation computation finished\n",
      "strain computation finished\n",
      "fluctuation computation finished\n",
      "strain computation finished\n",
      "fluctuation computation finished\n",
      "strain computation finished\n",
      "fluctuation computation finished\n",
      "strain computation finished\n",
      "[[  7.43838091e+00   3.10682462e-04]\n",
      " [  4.18897737e-04   5.40521018e+00]]\n",
      "\n",
      "\n",
      "[[  8.12687596e+00   3.09337100e-04]\n",
      " [  4.07721511e-04   5.53334588e+00]]\n",
      "\n",
      "\n",
      "[[  8.82142236e+00   3.10042205e-04]\n",
      " [  3.99266562e-04   5.65896124e+00]]\n",
      "\n",
      "\n",
      "[[  9.52501249e+00   3.10031111e-04]\n",
      " [  3.90263594e-04   5.78253973e+00]]\n",
      "\n",
      "\n",
      "[[  1.02392946e+01   3.08379223e-04]\n",
      " [  3.79762087e-04   5.90436676e+00]]\n",
      "\n",
      "\n",
      "[[  1.09652460e+01   3.04948350e-04]\n",
      " [  3.67646795e-04   6.02463157e+00]]\n",
      "\n",
      "\n",
      "[[  1.17034876e+01   2.99814784e-04]\n",
      " [  3.54074738e-04   6.14347106e+00]]\n",
      "\n",
      "\n",
      "[[  1.24544290e+01   2.93137533e-04]\n",
      " [  3.39280421e-04   6.26098876e+00]]\n",
      "\n",
      "\n",
      "[[  1.32183477e+01   2.85088541e-04]\n",
      " [  3.23498934e-04   6.37726540e+00]]\n",
      "\n",
      "\n"
     ]
    }
   ],
   "source": [
    "delta = 0.01\n",
    "F_bar00 = np.arange(0.85,0.95,delta)\n",
    "n_F = len(F_bar00)\n",
    "\n",
    "F = [np.array([[F_bar00[i],0.],[0.,1.]]) for i in range(n_F)]\n",
    "\n",
    "P = range(n_F)\n",
    "\n",
    "for i in range(n_F):\n",
    "    P[i] = FD_C_eff(F[i],cell,bc,VFS,E_m,nu_m,E_i,nu_i)\n",
    "\n",
    "for i in range(n_F-1):\n",
    "    print (P[i+1]-P[i])/0.01\n",
    "    print '\\n'"
   ]
  },
  {
   "cell_type": "markdown",
   "metadata": {},
   "source": [
    "- 2.observation"
   ]
  },
  {
   "cell_type": "code",
   "execution_count": 12,
   "metadata": {
    "collapsed": true
   },
   "outputs": [],
   "source": [
    "delta = [0.01, 0.01/2, 0.01/4, 0.01/8]"
   ]
  },
  {
   "cell_type": "code",
   "execution_count": 13,
   "metadata": {
    "collapsed": true
   },
   "outputs": [],
   "source": [
    "# sample_num = 8\n",
    "# delta = np.logspace(-2,-4,num=sample_num)"
   ]
  },
  {
   "cell_type": "code",
   "execution_count": 14,
   "metadata": {
    "collapsed": false
   },
   "outputs": [],
   "source": [
    "F_bar = np.array(F_bar).reshape(2,2)"
   ]
  },
  {
   "cell_type": "code",
   "execution_count": 15,
   "metadata": {
    "collapsed": false
   },
   "outputs": [
    {
     "name": "stdout",
     "output_type": "stream",
     "text": [
      "fluctuation computation finished\n",
      "strain computation finished\n",
      "fluctuation computation finished\n",
      "strain computation finished\n",
      "[[  1.06007667e+01   3.06884647e-04]\n",
      " [  3.73899641e-04   5.96468494e+00]]\n",
      "\n",
      "\n",
      "fluctuation computation finished\n",
      "strain computation finished\n",
      "fluctuation computation finished\n",
      "strain computation finished\n",
      "[[  1.06003904e+01   3.06940046e-04]\n",
      " [  3.73948623e-04   5.96473132e+00]]\n",
      "\n",
      "\n",
      "fluctuation computation finished\n",
      "strain computation finished\n",
      "fluctuation computation finished\n",
      "strain computation finished\n",
      "[[  1.06002963e+01   3.06953907e-04]\n",
      " [  3.73960880e-04   5.96474292e+00]]\n",
      "\n",
      "\n",
      "fluctuation computation finished\n",
      "strain computation finished\n",
      "fluctuation computation finished\n",
      "strain computation finished\n",
      "[[  1.06002727e+01   3.06957373e-04]\n",
      " [  3.73963945e-04   5.96474581e+00]]\n",
      "\n",
      "\n"
     ]
    }
   ],
   "source": [
    "for d in delta:\n",
    "    F_minus = F_bar.copy()\n",
    "    F_minus[0,0] = 0.9 - d/2\n",
    "    F_plus = F_bar.copy()\n",
    "    F_plus[0,0] = 0.9 + d/2\n",
    "    \n",
    "    P_minus = FD_C_eff(F_minus,cell,bc,VFS,E_m,nu_m,E_i,nu_i)\n",
    "    P_plus  = FD_C_eff(F_plus,cell,bc,VFS,E_m,nu_m,E_i,nu_i)\n",
    "    \n",
    "    print (P_plus - P_minus)/d\n",
    "    print '\\n'"
   ]
  },
  {
   "cell_type": "markdown",
   "metadata": {},
   "source": [
    "## Homogenization Method Result"
   ]
  },
  {
   "cell_type": "code",
   "execution_count": 18,
   "metadata": {
    "collapsed": false
   },
   "outputs": [
    {
     "name": "stdout",
     "output_type": "stream",
     "text": [
      "fluctuation computation finished\n",
      "strain computation finished\n",
      "[[  1.06002649e+01   3.06957941e-04   3.73964877e-04   5.96474679e+00]\n",
      " [  3.06957941e-04   3.09779890e+00   4.16921064e+00  -1.39407196e-04]\n",
      " [  3.73964877e-04   4.16921064e+00   3.02758901e+00  -1.84507395e-04]\n",
      " [  5.96474679e+00  -1.39407196e-04  -1.84507395e-04   1.76183590e+01]]\n"
     ]
    }
   ],
   "source": [
    "F_bar = [0.9, 0., 0., 1.]\n",
    "\n",
    "comp = com.computation(cell, bc, VFS)\n",
    "\n",
    "comp.F_bar_init(F_bar)\n",
    "\n",
    "E_m,nu_m,E_i,nu_i = 10.0, 0.3, 1000.0, 0.3\n",
    "psi_m = comp.material_energy(E_m, nu_m)\n",
    "psi_i = comp.material_energy(E_i, nu_i)\n",
    "\n",
    "comp.compute(psi_m,psi_i)\n",
    "\n",
    "comp.compute_strain()\n",
    "print comp.effective_moduli_2(E_m,nu_m,E_i,nu_i)"
   ]
  },
  {
   "cell_type": "code",
   "execution_count": null,
   "metadata": {
    "collapsed": true
   },
   "outputs": [],
   "source": []
  }
 ],
 "metadata": {
  "kernelspec": {
   "display_name": "Python 2",
   "language": "python",
   "name": "python2"
  },
  "language_info": {
   "codemirror_mode": {
    "name": "ipython",
    "version": 2
   },
   "file_extension": ".py",
   "mimetype": "text/x-python",
   "name": "python",
   "nbconvert_exporter": "python",
   "pygments_lexer": "ipython2",
   "version": "2.7.6"
  }
 },
 "nbformat": 4,
 "nbformat_minor": 0
}
