{
 "cells": [
  {
   "cell_type": "code",
   "execution_count": 1,
   "metadata": {
    "collapsed": true
   },
   "outputs": [],
   "source": [
    "from dolfin import *\n",
    "import numpy as np\n",
    "\n",
    "import cell_computation as com\n",
    "import cell_prop as ce\n",
    "import cell_material as ma"
   ]
  },
  {
   "cell_type": "code",
   "execution_count": 2,
   "metadata": {
    "collapsed": true
   },
   "outputs": [],
   "source": [
    "import logging\n",
    "logging.getLogger('FFC').setLevel(logging.WARNING)"
   ]
  },
  {
   "cell_type": "markdown",
   "metadata": {},
   "source": [
    "## Setting"
   ]
  },
  {
   "cell_type": "code",
   "execution_count": 3,
   "metadata": {
    "collapsed": true
   },
   "outputs": [],
   "source": [
    "mesh = Mesh(r\"m.xml\")\n",
    "# mesh = Mesh(r\"m_fine.xml\")\n",
    "\n",
    "cell = ce.unit_cell(mesh)\n",
    "\n",
    "inc = ce.Inclusion_Circle()\n",
    "inc = [inc]\n",
    "cell.inclusion(inc)"
   ]
  },
  {
   "cell_type": "code",
   "execution_count": 4,
   "metadata": {
    "collapsed": true
   },
   "outputs": [],
   "source": [
    "E_m,nu_m,E_i,nu_i = 10.0, 0.3, 1000.0, 0.3\n",
    "\n",
    "mat_m = ma.st_venant_kirchhoff(E_m, nu_m)\n",
    "mat_i = ma.st_venant_kirchhoff(E_i, nu_i)\n",
    "mat_li = [mat_m, mat_i]"
   ]
  },
  {
   "cell_type": "code",
   "execution_count": 5,
   "metadata": {
    "collapsed": false
   },
   "outputs": [],
   "source": [
    "VFS = VectorFunctionSpace(cell.mesh, \"CG\", 1, constrained_domain=ce.PeriodicBoundary_no_corner())\n",
    "strain_space = TensorFunctionSpace(cell.mesh, 'DG', 0)"
   ]
  },
  {
   "cell_type": "code",
   "execution_count": 6,
   "metadata": {
    "collapsed": true
   },
   "outputs": [],
   "source": [
    "w = Function(VFS)"
   ]
  },
  {
   "cell_type": "code",
   "execution_count": 7,
   "metadata": {
    "collapsed": true
   },
   "outputs": [],
   "source": [
    "def deform_grad_with_macro(F_bar, w_component):\n",
    "    return F_bar + grad(w_component)"
   ]
  },
  {
   "cell_type": "markdown",
   "metadata": {},
   "source": [
    "## Computation Template"
   ]
  },
  {
   "cell_type": "code",
   "execution_count": 8,
   "metadata": {
    "collapsed": true
   },
   "outputs": [],
   "source": [
    "def FD_C_eff(F_bar):\n",
    "    F_bar = [F_bar[0,0], F_bar[0,1], F_bar[1,0], F_bar[1,1]]\n",
    "    \n",
    "    \n",
    "    comp = com.MicroComputation(cell, mat_li, \n",
    "                                [deform_grad_with_macro],\n",
    "                                [strain_space], 0)\n",
    "    comp.input([F_bar], [w])\n",
    "    comp.comp_fluctuation()\n",
    "\n",
    "    return comp.avg_merge_stress()"
   ]
  },
  {
   "cell_type": "markdown",
   "metadata": {},
   "source": [
    "## Computation with FD"
   ]
  },
  {
   "cell_type": "markdown",
   "metadata": {},
   "source": [
    "$\\mathbb{C}_{1111} \\qquad  \\mathbb{C}_{1211} \\qquad \\mathbb{C}_{2111} \\qquad  \\mathbb{C}_{2211}$"
   ]
  },
  {
   "cell_type": "code",
   "execution_count": 9,
   "metadata": {
    "collapsed": true
   },
   "outputs": [],
   "source": [
    "F_bar = [0.9, 0., 0., 1.]"
   ]
  },
  {
   "cell_type": "code",
   "execution_count": 11,
   "metadata": {
    "collapsed": true
   },
   "outputs": [],
   "source": [
    "delta = [0.01, 0.01/2, 0.01/4, 0.01/8]"
   ]
  },
  {
   "cell_type": "code",
   "execution_count": 12,
   "metadata": {
    "collapsed": true
   },
   "outputs": [],
   "source": [
    "# sample_num = 8\n",
    "# delta = np.logspace(-2,-4,num=sample_num)"
   ]
  },
  {
   "cell_type": "code",
   "execution_count": 13,
   "metadata": {
    "collapsed": false
   },
   "outputs": [],
   "source": [
    "F_bar = np.array(F_bar).reshape(2,2)"
   ]
  },
  {
   "cell_type": "code",
   "execution_count": 15,
   "metadata": {
    "collapsed": false
   },
   "outputs": [
    {
     "name": "stdout",
     "output_type": "stream",
     "text": [
      "fluctuation computation finished\n",
      "strain computation finished\n",
      "average merge stress computation finished\n",
      "fluctuation computation finished\n",
      "strain computation finished\n",
      "average merge stress computation finished\n",
      "[  1.06007667e+01   3.06884647e-04   3.73899641e-04   5.96468494e+00]\n",
      "\n",
      "\n",
      "fluctuation computation finished\n",
      "strain computation finished\n",
      "average merge stress computation finished\n",
      "fluctuation computation finished\n",
      "strain computation finished\n",
      "average merge stress computation finished\n",
      "[  1.06003904e+01   3.06940046e-04   3.73948623e-04   5.96473132e+00]\n",
      "\n",
      "\n",
      "fluctuation computation finished\n",
      "strain computation finished\n",
      "average merge stress computation finished\n",
      "fluctuation computation finished\n",
      "strain computation finished\n",
      "average merge stress computation finished\n",
      "[  1.06002963e+01   3.06953907e-04   3.73960880e-04   5.96474292e+00]\n",
      "\n",
      "\n",
      "fluctuation computation finished\n",
      "strain computation finished\n",
      "average merge stress computation finished\n",
      "fluctuation computation finished\n",
      "strain computation finished\n",
      "average merge stress computation finished\n",
      "[  1.06002727e+01   3.06957373e-04   3.73963945e-04   5.96474581e+00]\n",
      "\n",
      "\n"
     ]
    }
   ],
   "source": [
    "for d in delta:\n",
    "    F_minus = F_bar.copy()\n",
    "    F_minus[0,0] = 0.9 - d/2\n",
    "    F_plus = F_bar.copy()\n",
    "    F_plus[0,0] = 0.9 + d/2\n",
    "    \n",
    "    P_minus = FD_C_eff(F_minus)\n",
    "    P_plus  = FD_C_eff(F_plus)\n",
    "    \n",
    "    print (P_plus - P_minus)/d\n",
    "    print '\\n'"
   ]
  },
  {
   "cell_type": "markdown",
   "metadata": {},
   "source": [
    "## Homogenization Method Result"
   ]
  },
  {
   "cell_type": "code",
   "execution_count": 18,
   "metadata": {
    "collapsed": false
   },
   "outputs": [
    {
     "name": "stdout",
     "output_type": "stream",
     "text": [
      "fluctuation computation finished\n",
      "strain computation finished\n",
      "average merge moduli computation finished\n",
      "[[  1.06002649e+01   3.06957941e-04   3.73964877e-04   5.96474679e+00]\n",
      " [  3.06957941e-04   3.09779890e+00   4.16921064e+00  -1.39407196e-04]\n",
      " [  3.73964877e-04   4.16921064e+00   3.02758901e+00  -1.84507395e-04]\n",
      " [  5.96474679e+00  -1.39407196e-04  -1.84507395e-04   1.76183590e+01]]\n"
     ]
    }
   ],
   "source": [
    "F_bar = [0.9, 0., 0., 1.]\n",
    "comp = com.MicroComputation(cell, mat_li, [deform_grad_with_macro], [strain_space], 0)\n",
    "\n",
    "comp.input([F_bar], [w])\n",
    "comp.comp_fluctuation()\n",
    "print comp.effective_moduli_2()"
   ]
  },
  {
   "cell_type": "code",
   "execution_count": null,
   "metadata": {
    "collapsed": true
   },
   "outputs": [],
   "source": []
  }
 ],
 "metadata": {
  "kernelspec": {
   "display_name": "Python 2",
   "language": "python",
   "name": "python2"
  },
  "language_info": {
   "codemirror_mode": {
    "name": "ipython",
    "version": 2
   },
   "file_extension": ".py",
   "mimetype": "text/x-python",
   "name": "python",
   "nbconvert_exporter": "python",
   "pygments_lexer": "ipython2",
   "version": "2.7.6"
  }
 },
 "nbformat": 4,
 "nbformat_minor": 0
}
